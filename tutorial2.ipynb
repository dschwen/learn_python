{
 "cells": [
  {
   "cell_type": "markdown",
   "metadata": {},
   "source": [
    "\n",
    "Input and Variables\n",
    "===================\n",
    "\n",
    "\n",
    "Now I feel it is time for a really complicated program. Here it is:\n"
   ]
  },
  {
   "cell_type": "code",
   "execution_count": null,
   "metadata": {},
   "outputs": [],
   "source": [
    "print(\"Halt!\")\n",
    "s = input(\"Who Goes there? \")\n",
    "print(\"You may pass,\", s)"
   ]
  },
  {
   "cell_type": "markdown",
   "metadata": {},
   "source": [
    "\n",
    "When **I** ran it here is what **my** screen showed:\n"
   ]
  },
  {
   "cell_type": "raw",
   "metadata": {},
   "source": [
    "Halt!\n",
    "Who Goes there? Josh\n",
    "You may pass, Josh"
   ]
  },
  {
   "cell_type": "markdown",
   "metadata": {},
   "source": [
    "\n",
    "\n",
    "Of course when you run the program your screen will look different\n",
    "because of the `input` statement. When you ran the program\n",
    "you probably noticed (you did run the program, right?) how you had to\n",
    "type in your name and then press Enter. Then the program printed out\n",
    "some more text and also your name. This is an example of input. The\n",
    "program reaches a certain point and then waits for the user to input\n",
    "some data that the program can use later.\n",
    "\n",
    "\n",
    "Of course, getting information from the user would be useless if we didn't have anywhere to put that information and this is where variables come in. In the previous program s is a variable. Variables are like a box that can store some piece of data. Here is a program to show examples of variables:\n"
   ]
  },
  {
   "cell_type": "code",
   "execution_count": null,
   "metadata": {},
   "outputs": [],
   "source": [
    "a = 123.4\n",
    "b23 = 'Spam'\n",
    "first_name = \"Bill\"\n",
    "b = 432\n",
    "c = a + b\n",
    "print(\"a + b is\", c)\n",
    "print(\"first_name is\", first_name)\n",
    "print(\"Sorted Parts, After Midnight or\", b23)"
   ]
  },
  {
   "cell_type": "markdown",
   "metadata": {},
   "source": [
    "\n",
    "And here is the output:\n"
   ]
  },
  {
   "cell_type": "raw",
   "metadata": {},
   "source": [
    "a + b is 555.4\n",
    "first_name is Bill\n",
    "Sorted Parts, After Midnight or Spam"
   ]
  },
  {
   "cell_type": "markdown",
   "metadata": {},
   "source": [
    "\n",
    "Variables store data. The variables in the above program are a, b23, `first_name`, b, and c. The two basic types are strings and numbers. Strings are a sequence of letters, numbers and other characters. In this example b23 and `first_name` are variables that are storing strings. Spam, Bill, a + b is, and `first_name is` are the strings in this program. The characters are surrounded by \" or '. The other type of variables are numbers.\n",
    "\n",
    "Okay, so we have these boxes called variables and also data that can go into the variable. The computer will see a line like `first_name = \"Bill\"` and it reads it as Put the string Bill into the box (or variable) `first_name`. Later on it sees the statement c = a + b and it reads it as Put a + b or 123.4 + 432 or 555.4 into c.\n",
    "\n",
    "\n",
    "Here is another example of variable usage:\n"
   ]
  },
  {
   "cell_type": "code",
   "execution_count": null,
   "metadata": {},
   "outputs": [],
   "source": [
    "a = 1\n",
    "print(a)\n",
    "a = a + 1\n",
    "print(a)\n",
    "a = a * 2\n",
    "print(a)"
   ]
  },
  {
   "cell_type": "markdown",
   "metadata": {},
   "source": [
    "\n",
    "And of course here is the output:\n"
   ]
  },
  {
   "cell_type": "raw",
   "metadata": {},
   "source": [
    "1\n",
    "2\n",
    "4"
   ]
  },
  {
   "cell_type": "markdown",
   "metadata": {},
   "source": [
    "\n",
    "Even if it is the same variable on both sides the computer still reads it as: First find out the data to store and than find out where the data goes.\n",
    "\n",
    "\n",
    "One more program before I end this chapter:\n"
   ]
  },
  {
   "cell_type": "code",
   "execution_count": null,
   "metadata": {},
   "outputs": [],
   "source": [
    "num = float(input(\"Type in a Number: \"))\n",
    "str = input(\"Type in a String: \")\n",
    "print(\"num =\", num)\n",
    "print(\"num is a \", type(num))\n",
    "print(\"num * 2 =\", num*2)\n",
    "print(\"str =\", str)\n",
    "print(\"str is a \", type(str))\n",
    "print(\"str * 2 =\", str*2)"
   ]
  },
  {
   "cell_type": "markdown",
   "metadata": {},
   "source": [
    "\n",
    "The output I got was:\n"
   ]
  },
  {
   "cell_type": "raw",
   "metadata": {},
   "source": [
    "Type in a Number: 12.34\n",
    "Type in a String: Hello\n",
    "num = 12.34\n",
    "num is a  <class 'float'>\n",
    "num * 2 = 24.68\n",
    "str = Hello\n",
    "str is a  <class 'str'>\n",
    "str * 2 = HelloHello"
   ]
  },
  {
   "cell_type": "markdown",
   "metadata": {},
   "source": [
    "Notice that `num` was gotten with `float(input(...))` while `str` was gotten with `input`. `input` returns a string and the function float converts it to a floating point number. There is also a function `int` that converts a string or a floating point number into an integer.\n",
    "\n",
    "The second half of the program uses type which tells what a\n",
    "variable is. Numbers are of type int or\n",
    "float (which are short for _integer_ and _floating point_\n",
    "respectively). Strings are of type string. Integers and floats\n",
    "can be worked on by mathematical functions, strings cannot. Notice\n",
    "how when python multiples a number by a integer the expected thing\n",
    "happens. However when a string is multiplied by a integer the string\n",
    "has that many copies of it repeated: for example `str * 2 = \"HelloHello\"`.\n",
    "\n",
    "The operations with strings do slightly different things than\n",
    "operations with numbers. Here are some interative mode examples\n",
    "to show that some more.\n"
   ]
  },
  {
   "cell_type": "code",
   "execution_count": null,
   "metadata": {},
   "outputs": [],
   "source": [
    ">>> \"This\"+\" \"+\"is\"+\" joined.\"\n",
    "'This is joined.'\n",
    ">>> \"Ha, \"*5\n",
    "'Ha, Ha, Ha, Ha, Ha, '\n",
    ">>> \"Ha, \"*5+\"ha!\"\n",
    "'Ha, Ha, Ha, Ha, Ha, ha!'\n",
    ">>>"
   ]
  },
  {
   "cell_type": "markdown",
   "metadata": {},
   "source": [
    "\n",
    "\n",
    "Here is the list of some string operations:\n",
    "\n",
    "\n",
    "\n",
    "\n",
    "|  |  |  |  |  |  |  |\n",
    "| --- | --- | --- | --- | --- | --- | --- |\n",
    "| Operation | Symbol | Example |  |  |  |  |\n",
    "| Repetition | `*` | `\"i\"*5 == \"iiiii\"` |  |  |  |  |\n",
    "| Concatenation | `+` | `\"Hello, \"+\"World!\" == \"Hello, World!\"` |  |  |  |  |\n",
    "\n",
    "\n",
    "\n",
    "Examples\n",
    "========\n",
    "\n",
    "\n",
    "\n",
    "Rate\\_times.py\n"
   ]
  },
  {
   "cell_type": "code",
   "execution_count": null,
   "metadata": {},
   "outputs": [],
   "source": [
    "#This programs calculates rate and distance problems\n",
    "print(\"Input a rate and a distance\")\n",
    "rate = float(input(\"Rate:\"))\n",
    "distance = float(input(\"Distance:\"))\n",
    "print(\"Time:\", distance/rate)"
   ]
  },
  {
   "cell_type": "markdown",
   "metadata": {},
   "source": [
    "\n",
    "Sample runs:\n"
   ]
  },
  {
   "cell_type": "raw",
   "metadata": {},
   "source": [
    "> python3 rate_times.py\n",
    "Input a rate and a distance\n",
    "Rate:5\n",
    "Distance:10\n",
    "Time: 2.0\n",
    "> python3 rate_times.py\n",
    "Input a rate and a distance\n",
    "Rate:3.52\n",
    "Distance:45.6\n",
    "Time: 12.9545454545"
   ]
  },
  {
   "cell_type": "markdown",
   "metadata": {},
   "source": [
    "\n",
    "\n",
    "Area.py\n"
   ]
  },
  {
   "cell_type": "code",
   "execution_count": null,
   "metadata": {},
   "outputs": [],
   "source": [
    "#This program calculates the perimeter and area of a rectangle\n",
    "print(\"Calculate information about a rectangle\")\n",
    "length = float(input(\"Length:\"))\n",
    "width = float(input(\"Width:\"))\n",
    "print(\"Area\", length*width)\n",
    "print(\"Perimeter\", 2*length+2*width)"
   ]
  },
  {
   "cell_type": "markdown",
   "metadata": {},
   "source": [
    "\n",
    "Sample runs:\n"
   ]
  },
  {
   "cell_type": "raw",
   "metadata": {},
   "source": [
    "> python3 area.py\n",
    "Calculate information about a rectangle\n",
    "Length:4\n",
    "Width:3\n",
    "Area 12.0\n",
    "Perimeter 14.0\n",
    "> python3 area.py\n",
    "Calculate information about a rectangle\n",
    "Length:2.53\n",
    "Width:5.2\n",
    "Area 13.156\n",
    "Perimeter 15.46"
   ]
  },
  {
   "cell_type": "markdown",
   "metadata": {},
   "source": [
    "\n",
    "\n",
    "temperature.py\n"
   ]
  },
  {
   "cell_type": "code",
   "execution_count": null,
   "metadata": {},
   "outputs": [],
   "source": [
    "#Converts Fahrenheit to Celsius\n",
    "temp = float(input(\"Farenheit temperature:\"))\n",
    "print((temp-32.0)*5.0/9.0)"
   ]
  },
  {
   "cell_type": "markdown",
   "metadata": {},
   "source": [
    "\n",
    "Sample runs:\n"
   ]
  },
  {
   "cell_type": "raw",
   "metadata": {},
   "source": [
    "> python3 temperature.py\n",
    "Farenheit temperature:32\n",
    "0.0\n",
    "> python3 temperature.py\n",
    "Farenheit temperature:-40\n",
    "-40.0\n",
    "> python3 temperature.py\n",
    "Farenheit temperature:212\n",
    "100.0\n",
    "> python3 temperature.py\n",
    "Farenheit temperature:98.6\n",
    "37.0"
   ]
  },
  {
   "cell_type": "markdown",
   "metadata": {},
   "source": [
    "\n",
    "\n",
    "Exercises\n",
    "=========\n",
    "\n",
    "\n",
    "\n",
    "Write a program that gets 2 string variables and 2 integer variables\n",
    "from the user, concatenates (joins them together with no spaces) and\n",
    "displays the strings, then multiplies the two numbers on a new line.\n"
   ]
  },
  {
   "cell_type": "code",
   "execution_count": null,
   "metadata": {},
   "outputs": [],
   "source": []
  }
 ],
 "metadata": {
  "kernelspec": {
   "display_name": "Python 3",
   "language": "python",
   "name": "python3"
  },
  "language_info": {
   "codemirror_mode": {
    "name": "ipython",
    "version": 3
   },
   "file_extension": ".py",
   "mimetype": "text/x-python",
   "name": "python",
   "nbconvert_exporter": "python",
   "pygments_lexer": "ipython3",
   "version": "3.8.10"
  }
 },
 "nbformat": 4,
 "nbformat_minor": 4
}
