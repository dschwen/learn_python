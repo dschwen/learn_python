{
 "cells": [
  {
   "cell_type": "markdown",
   "metadata": {},
   "source": [
    "Here's this chapter's typing exercise\n"
   ]
  },
  {
   "cell_type": "code",
   "execution_count": null,
   "metadata": {},
   "outputs": [],
   "source": [
    "import calendar\n",
    "\n",
    "year = int(input(\"Type in the year number:\"))\n",
    "calendar.prcal(year)"
   ]
  },
  {
   "cell_type": "markdown",
   "metadata": {},
   "source": [
    "\n",
    "\n",
    "And here is part of the output I got:\n"
   ]
  },
  {
   "cell_type": "raw",
   "metadata": {},
   "source": [
    "Type in the year number:2001\n",
    "                                  2001\n",
    "\n",
    "       January                  February                    March\n",
    "Mo Tu We Th Fr Sa Su      Mo Tu We Th Fr Sa Su      Mo Tu We Th Fr Sa Su\n",
    " 1  2  3  4  5  6  7                1  2  3  4                1  2  3  4\n",
    " 8  9 10 11 12 13 14       5  6  7  8  9 10 11       5  6  7  8  9 10 11\n",
    "15 16 17 18 19 20 21      12 13 14 15 16 17 18      12 13 14 15 16 17 18\n",
    "22 23 24 25 26 27 28      19 20 21 22 23 24 25      19 20 21 22 23 24 25\n",
    "29 30 31                  26 27 28                  26 27 28 29 30 31"
   ]
  },
  {
   "cell_type": "markdown",
   "metadata": {},
   "source": [
    "\n",
    "(I skipped some of the output, but I think you get the idea.) So what does the program do? The first line import calendar uses a new command import. The command import loads a module (in this case the calendar module). To see the commands available in the standard modules either look in the library reference for python (if you downloaded it) or go to https://docs.python.org/3/library/index.html. The calendar module is described in 8.2. If you look at the documentation it lists a function called prcal that prints a calendar for a year. The line `calendar.prcal(year)` uses the function. In summary to use a module import it and then use module\\_name.function for functions in the module. Another way to write the program is:\n"
   ]
  },
  {
   "cell_type": "code",
   "execution_count": null,
   "metadata": {},
   "outputs": [],
   "source": [
    "from calendar import prcal\n",
    "\n",
    "year = int(input(\"Type in the year number:\"))\n",
    "prcal(year)"
   ]
  },
  {
   "cell_type": "markdown",
   "metadata": {},
   "source": [
    "\n",
    "\n",
    "This version imports a specific function from a module. Here is another program that uses the Python Library (name it something like clock.py) (click the ⬛ (\"interrupt the kernel\") button in the toolbar above to kill the program):\n"
   ]
  },
  {
   "cell_type": "code",
   "execution_count": null,
   "metadata": {},
   "outputs": [],
   "source": [
    "from time import time, ctime\n",
    "\n",
    "prev_time = \"\"\n",
    "while(1):\n",
    "    the_time = ctime(time())\n",
    "    if(prev_time != the_time):\n",
    "        print(\"The time is:\", ctime(time()))\n",
    "        prev_time = the_time"
   ]
  },
  {
   "cell_type": "markdown",
   "metadata": {},
   "source": [
    "\n",
    "With some output being:\n"
   ]
  },
  {
   "cell_type": "raw",
   "metadata": {},
   "source": [
    "The time is: Sun Aug 20 13:40:04 2000\n",
    "The time is: Sun Aug 20 13:40:05 2000\n",
    "The time is: Sun Aug 20 13:40:06 2000\n",
    "The time is: Sun Aug 20 13:40:07 2000\n",
    "Traceback (innermost last):\n",
    "  File \"clock.py\", line 5, in ?\n",
    "    the_time = ctime(time())\n",
    "KeyboardInterrupt"
   ]
  },
  {
   "cell_type": "markdown",
   "metadata": {},
   "source": [
    "\n",
    "The output will keep coming forever (or at least until the heat death of the computer) so of course so I canceled it with a Ctrl+C. The program just does a infinite loop and each time checks to see if the time has changed and prints it if it has. Notice how multiple names after the import statement are used in the line from time import time, ctime.\n",
    "\n",
    "\n",
    "The Python Library contains many useful functions. These functions give your programs more abilities and many of them can simplify programming in Python.\n",
    "\n",
    "\n",
    "Exercises\n",
    "=========\n",
    "\n",
    "\n",
    "\n",
    "Rewrite the `high_low.py` program from notebook 4 (copied below) to\n",
    "use the last two digits of time at that moment to be the 'random'\n",
    "number.\n"
   ]
  },
  {
   "cell_type": "code",
   "execution_count": null,
   "metadata": {},
   "outputs": [],
   "source": [
    "#Plays the guessing game higher or lower\n",
    "# (originally written by Josh Cogliati, improved by Quique)\n",
    "\n",
    "#This should actually be something that is semi random like the\n",
    "# last digits of the time or something else, but that will have to\n",
    "# wait till a later chapter.  (Extra Credit, modify it to be random\n",
    "# after the Modules chapter)\n",
    "number = 78\n",
    "guess = 0\n",
    "\n",
    "while guess != number:\n",
    "    guess = int(input(\"Guess a number: \"))\n",
    "\n",
    "    if guess > number:\n",
    "        print(\"Too high\")\n",
    "\n",
    "    elif guess < number:\n",
    "        print(\"Too low\")\n",
    "\n",
    "print(\"Just right\")"
   ]
  }
 ],
 "metadata": {
  "kernelspec": {
   "display_name": "Python 3",
   "language": "python",
   "name": "python3"
  },
  "language_info": {
   "codemirror_mode": {
    "name": "ipython",
    "version": 3
   },
   "file_extension": ".py",
   "mimetype": "text/x-python",
   "name": "python",
   "nbconvert_exporter": "python",
   "pygments_lexer": "ipython3",
   "version": "3.8.10"
  }
 },
 "nbformat": 4,
 "nbformat_minor": 4
}
