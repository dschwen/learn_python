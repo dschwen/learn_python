{
 "cells": [
  {
   "cell_type": "markdown",
   "metadata": {},
   "source": [
    "And here is the new typing exercise for this chapter:\n"
   ]
  },
  {
   "cell_type": "code",
   "execution_count": null,
   "metadata": {},
   "outputs": [],
   "source": [
    "onetoten = range(1, 11)\n",
    "for count in onetoten:\n",
    "    print(count)"
   ]
  },
  {
   "cell_type": "markdown",
   "metadata": {},
   "source": [
    "and the ever-present output:\n"
   ]
  },
  {
   "cell_type": "raw",
   "metadata": {},
   "source": [
    "1\n",
    "2\n",
    "3\n",
    "4\n",
    "5\n",
    "6\n",
    "7\n",
    "8\n",
    "9\n",
    "10"
   ]
  },
  {
   "cell_type": "markdown",
   "metadata": {},
   "source": [
    "The output looks awfully familiar but the program code looks different. The first line uses the range function. The range function uses two arguments like this range(start, finish). start is the first integer number that is produced. finish is one larger than the last number. If the finish number is not larger, than the start number, no numbers are produced. Note that this program could have been done in a shorter way:\n"
   ]
  },
  {
   "cell_type": "code",
   "execution_count": null,
   "metadata": {},
   "outputs": [],
   "source": [
    "for count in range(1, 11):\n",
    "    print(count)"
   ]
  },
  {
   "cell_type": "markdown",
   "metadata": {},
   "source": [
    "Here are some examples to show what happens with the range command (converted into a list with the list function):\n"
   ]
  },
  {
   "cell_type": "raw",
   "metadata": {},
   "source": [
    ">>> list(range(1, 10))\n",
    "[1, 2, 3, 4, 5, 6, 7, 8, 9]\n",
    ">>> list(range(-32, -20))\n",
    "[-32, -31, -30, -29, -28, -27, -26, -25, -24, -23, -22, -21]\n",
    ">>> list(range(5, 21))\n",
    "[5, 6, 7, 8, 9, 10, 11, 12, 13, 14, 15, 16, 17, 18, 19, 20]\n",
    ">>> list(range(21, 5))\n",
    "[]"
   ]
  },
  {
   "cell_type": "markdown",
   "metadata": {},
   "source": [
    "\n",
    "The next line `for count in onetoten:` uses the for control structure. A for control structure looks like for variable in list: . list is gone through starting with the first element of the list and going to the last. As for goes through each element in a list it puts each into variable. That allows variable to be used in each successive time the for loop is run through. Here is another example to demonstrate:\n"
   ]
  },
  {
   "cell_type": "code",
   "execution_count": null,
   "metadata": {},
   "outputs": [],
   "source": [
    "demolist = ['life', 42, 'the universe', 6, 'and', 7, 'everything']\n",
    "for item in demolist:\n",
    "    print(\"The Current item is:\", item)"
   ]
  },
  {
   "cell_type": "markdown",
   "metadata": {},
   "source": [
    "The output is:\n"
   ]
  },
  {
   "cell_type": "raw",
   "metadata": {},
   "source": [
    "The Current item is: life\n",
    "The Current item is: 42\n",
    "The Current item is: the universe\n",
    "The Current item is: 6\n",
    "The Current item is: and\n",
    "The Current item is: 7\n",
    "The Current item is: everything"
   ]
  },
  {
   "cell_type": "markdown",
   "metadata": {},
   "source": [
    "Notice how the for loop goes through and sets item to each element in the list. So, what is for good for? (groan) The first use is to go through all the elements of a list and do something with each of them. Here a quick way to add up all the elements:\n"
   ]
  },
  {
   "cell_type": "code",
   "execution_count": null,
   "metadata": {},
   "outputs": [],
   "source": [
    "list = [2, 4, 6, 8]\n",
    "sum = 0\n",
    "for num in list:\n",
    "    sum = sum + num\n",
    "print(\"The sum is: \", sum)"
   ]
  },
  {
   "cell_type": "markdown",
   "metadata": {},
   "source": [
    "with the output simply being:\n"
   ]
  },
  {
   "cell_type": "raw",
   "metadata": {},
   "source": [
    "The sum is:  20"
   ]
  },
  {
   "cell_type": "markdown",
   "metadata": {},
   "source": [
    "Or you could write a program to find out if there are any duplicates in a list like this program does:\n"
   ]
  },
  {
   "cell_type": "code",
   "execution_count": null,
   "metadata": {},
   "outputs": [],
   "source": [
    "list = [4, 5, 7, 8, 9, 1, 0, 7, 10]\n",
    "list.sort()\n",
    "prev = list[0]\n",
    "del list[0]\n",
    "for item in list:\n",
    "    if prev == item:\n",
    "        print(\"Duplicate of \", prev, \" Found\")\n",
    "    prev = item"
   ]
  },
  {
   "cell_type": "markdown",
   "metadata": {},
   "source": [
    "and for good measure:\n"
   ]
  },
  {
   "cell_type": "raw",
   "metadata": {},
   "source": [
    "Duplicate of  7  Found"
   ]
  },
  {
   "cell_type": "markdown",
   "metadata": {},
   "source": [
    "Okay, so how does it work? Here is a special debugging version to help you understand (you don't need to type this in):\n"
   ]
  },
  {
   "cell_type": "code",
   "execution_count": null,
   "metadata": {},
   "outputs": [],
   "source": [
    "l = [4, 5, 7, 8, 9, 1, 0, 7, 10]\n",
    "print(\"l = [4, 5, 7, 8, 9, 1, 0, 7, 10]\", \"\\tl:\", l)\n",
    "l.sort()\n",
    "print(\"l.sort()\", \"\\tl:\", l)\n",
    "prev = l[0]\n",
    "print(\"prev = l[0]\", \"\\tprev:\", prev)\n",
    "del l[0]\n",
    "print(\"del l[0]\", \"\\tl:\", l)\n",
    "for item in l:\n",
    "    if prev == item:\n",
    "        print(\"Duplicate of \", prev, \" Found\")\n",
    "    print(\"if prev == item:\", \"\\tprev:\", prev, \"\\titem:\", item)\n",
    "    prev = item\n",
    "    print(\"prev = item\", \"\\t\\tprev:\", prev, \"\\titem:\", item)"
   ]
  },
  {
   "cell_type": "markdown",
   "metadata": {},
   "source": [
    "with the output being:\n"
   ]
  },
  {
   "cell_type": "raw",
   "metadata": {},
   "source": [
    "l = [4, 5, 7, 8, 9, 1, 0, 7, 10] \tl: [4, 5, 7, 8, 9, 1, 0, 7, 10]\n",
    "l.sort() \tl: [0, 1, 4, 5, 7, 7, 8, 9, 10]\n",
    "prev = l[0] \tprev: 0\n",
    "del l[0] \tl: [1, 4, 5, 7, 7, 8, 9, 10]\n",
    "if prev == item: \tprev: 0 \titem: 1\n",
    "prev = item \t\tprev: 1 \titem: 1\n",
    "if prev == item: \tprev: 1 \titem: 4\n",
    "prev = item \t\tprev: 4 \titem: 4\n",
    "if prev == item: \tprev: 4 \titem: 5\n",
    "prev = item \t\tprev: 5 \titem: 5\n",
    "if prev == item: \tprev: 5 \titem: 7\n",
    "prev = item \t\tprev: 7 \titem: 7\n",
    "Duplicate of  7  Found\n",
    "if prev == item: \tprev: 7 \titem: 7\n",
    "prev = item \t\tprev: 7 \titem: 7\n",
    "if prev == item: \tprev: 7 \titem: 8\n",
    "prev = item \t\tprev: 8 \titem: 8\n",
    "if prev == item: \tprev: 8 \titem: 9\n",
    "prev = item \t\tprev: 9 \titem: 9\n",
    "if prev == item: \tprev: 9 \titem: 10\n",
    "prev = item \t\tprev: 10 \titem: 10"
   ]
  },
  {
   "cell_type": "markdown",
   "metadata": {},
   "source": [
    "The reason I put so many print functions in the code was so that you can see what is happening in each line. (BTW, if you can't figure out why a program is not working, try putting in lots of prints to you can see what is happening) First the program starts with a boring old list. Next the program sorts the list. This is so that any duplicates get put next to each other. The program then initializes a prev(ious) variable. Next the first element of the list is deleted so that the first item is not incorrectly thought to be a duplicate. Next a for loop is gone into. Each item of the list is checked to see if it is the same as the previous. If it is a duplicate was found. The value of prev is then changed so that the next time the for loop is run through prev is the previous item to the current. Sure enough, the 7 is found to be a duplicate. (Notice how `\\t` is used to print a tab.)\n",
    "\n",
    "\n",
    "The other way to use for loops is to do something a certain number of times. Here is some code to print out the first 11 numbers of the Fibonacci series:\n"
   ]
  },
  {
   "cell_type": "code",
   "execution_count": null,
   "metadata": {},
   "outputs": [],
   "source": [
    "a = 1\n",
    "b = 1\n",
    "for c in range(1, 10):\n",
    "    print(a, end=\" \")\n",
    "    n = a + b\n",
    "    a = b\n",
    "    b = n"
   ]
  },
  {
   "cell_type": "markdown",
   "metadata": {},
   "source": [
    "with the surprising output (Notice how if you don't want print to go to the next line use the `end=\" \"` (i.e. if you want to print something else on that line).):\n"
   ]
  },
  {
   "cell_type": "raw",
   "metadata": {},
   "source": [
    "1 1 2 3 5 8 13 21 34"
   ]
  },
  {
   "cell_type": "markdown",
   "metadata": {},
   "source": [
    "Everything that can be done with for loops can also be done with while loops but for loops give a easy way to go through all the elements in a list or to do something a certain number of times.\n"
   ]
  }
 ],
 "metadata": {
  "kernelspec": {
   "display_name": "Python 3",
   "language": "python",
   "name": "python3"
  },
  "language_info": {
   "codemirror_mode": {
    "name": "ipython",
    "version": 3
   },
   "file_extension": ".py",
   "mimetype": "text/x-python",
   "name": "python",
   "nbconvert_exporter": "python",
   "pygments_lexer": "ipython3",
   "version": "3.8.10"
  }
 },
 "nbformat": 4,
 "nbformat_minor": 4
}
