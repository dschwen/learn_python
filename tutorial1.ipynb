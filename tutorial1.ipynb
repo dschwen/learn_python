{
 "cells": [
  {
   "cell_type": "markdown",
   "metadata": {},
   "source": [
    "\n",
    "What you should know\n",
    "====================\n",
    "\n",
    "\n",
    "You should know how to edit code in this notebook in your browser. Click on a code cell to edit the code. **Enter** inserts a new line, **Shift-Enter** executes the current cell.\n",
    "\n",
    "\n",
    "Printing\n",
    "========\n",
    "\n",
    "\n",
    "Programming tutorials since the beginning of time have started with a little program called Hello, World! So here it is:\n"
   ]
  },
  {
   "cell_type": "code",
   "execution_count": null,
   "metadata": {},
   "outputs": [],
   "source": [
    "print(\"Hello, World!\")"
   ]
  },
  {
   "cell_type": "markdown",
   "metadata": {},
   "source": [
    "\n",
    "If you are using the command line to run programs then type it in with a text editor, save it as hello.py and run it with python3 hello.py\n",
    "\n",
    "Otherwise execute the cells in this notebook using **Shift+Enter**\n",
    "\n",
    "When this program is run here's what it prints:"
   ]
  },
  {
   "cell_type": "raw",
   "metadata": {},
   "source": [
    "Hello, World!"
   ]
  },
  {
   "cell_type": "markdown",
   "metadata": {},
   "source": [
    "\n",
    "\n",
    "Now I'm not going to tell you this every time, but when I show you a\n",
    "program I recommend that you type it in and run it. I learn better\n",
    "when I type programs in and you probably do too.\n",
    "\n",
    "\n",
    "Now here is a more complicated program:\n"
   ]
  },
  {
   "cell_type": "code",
   "execution_count": null,
   "metadata": {},
   "outputs": [],
   "source": [
    "print(\"Jack and Jill went up a hill\")\n",
    "print(\"to fetch a pail of water;\")\n",
    "print(\"Jack fell down, and broke his crown,\")\n",
    "print(\"and Jill came tumbling after.\")"
   ]
  },
  {
   "cell_type": "markdown",
   "metadata": {},
   "source": [
    "\n",
    "When you run this program it prints out:\n"
   ]
  },
  {
   "cell_type": "raw",
   "metadata": {},
   "source": [
    "Jack and Jill went up a hill\n",
    "to fetch a pail of water;\n",
    "Jack fell down, and broke his crown,\n",
    "and Jill came tumbling after."
   ]
  },
  {
   "cell_type": "markdown",
   "metadata": {},
   "source": [
    "\n",
    "\n",
    "When the computer runs this program, first it sees the line:\n"
   ]
  },
  {
   "cell_type": "code",
   "execution_count": null,
   "metadata": {},
   "outputs": [],
   "source": [
    "print(\"Jack and Jill went up a hill\")"
   ]
  },
  {
   "cell_type": "markdown",
   "metadata": {},
   "source": [
    " so the computer prints:\n"
   ]
  },
  {
   "cell_type": "raw",
   "metadata": {},
   "source": [
    "Jack and Jill went up a hill"
   ]
  },
  {
   "cell_type": "markdown",
   "metadata": {},
   "source": [
    "\n",
    "\n",
    "Then the computer goes down to the next line and sees:\n"
   ]
  },
  {
   "cell_type": "code",
   "execution_count": null,
   "metadata": {},
   "outputs": [],
   "source": [
    "print(\"to fetch a pail of water;\")"
   ]
  },
  {
   "cell_type": "markdown",
   "metadata": {},
   "source": [
    "\n",
    "\n",
    "So the computer prints to the screen:\n"
   ]
  },
  {
   "cell_type": "raw",
   "metadata": {},
   "source": [
    "to fetch a pail of water;"
   ]
  },
  {
   "cell_type": "markdown",
   "metadata": {},
   "source": [
    "\n",
    "\n",
    "The computer keeps looking at each line, follows the command, and then goes on to the next line. The computer keeps running commands until it reaches the end of the program.\n",
    "\n",
    "\n",
    "Expressions\n",
    "===========\n",
    "\n",
    "\n",
    "Here is another program:\n"
   ]
  },
  {
   "cell_type": "code",
   "execution_count": null,
   "metadata": {},
   "outputs": [],
   "source": [
    "print(\"2 + 2 is\", 2+2)\n",
    "print(\"3 * 4 is\", 3 * 4)\n",
    "print(100 - 1, \" = 100 - 1\")\n",
    "print(\"(33 + 2) / 5 + 11.5 = \", (33 + 2) / 5 + 11.5)"
   ]
  },
  {
   "cell_type": "markdown",
   "metadata": {},
   "source": [
    "\n",
    "And here is the output when the program is run:\n"
   ]
  },
  {
   "cell_type": "raw",
   "metadata": {},
   "source": [
    "2 + 2 is 4\n",
    "3 * 4 is 12\n",
    "99  = 100 - 1\n",
    "(33 + 2) / 5 + 11.5 =  18.5"
   ]
  },
  {
   "cell_type": "markdown",
   "metadata": {},
   "source": [
    "\n",
    "As you can see, Python can turn your thousand dollar computer into a 5 dollar calculator.\n",
    "\n",
    "\n",
    "Python has seven basic operations for numbers:\n",
    "\n",
    "|  |  |  |  |  |  |  |\n",
    "| --- | --- | --- | --- | --- | --- | --- |\n",
    "| Operation | Symbol | Example |  |  |  |  |\n",
    "| Exponentiation | `**` | `5 ** 2 == 25` |  |  |  |  |\n",
    "| Multiplication | `*` | `2 * 3 == 6` |  |  |  |  |\n",
    "| Division | `/` | `15 / 2 == 7.5` |  |  |  |  |\n",
    "| Integer Division | `//` | `14 // 3 == 4` |  |  |  |  |\n",
    "| Remainder | `%` | `14 % 3 == 2` |  |  |  |  |\n",
    "| Addition | `+` | `1 + 2 == 3` |  |  |  |  |\n",
    "| Subtraction | `-` | `4 - 3 == 1` |  |  |  |  |\n",
    "\n",
    "\n",
    "\n",
    "Notice that there are two different division rules. If you use `//` then it returns the integer result (`15 // 2 == 7`). If you use `/` then it returns the decimal result (`15 / 2 == 7.5`). The following program show this:\n"
   ]
  },
  {
   "cell_type": "code",
   "execution_count": null,
   "metadata": {},
   "outputs": [],
   "source": [
    "print(\"15 / 2 = \", 15 / 2)\n",
    "print(\"15 // 2 = \", 15 // 2)\n",
    "print(\"15 % 2 = \", 15 % 2)\n",
    "print()\n",
    "print(\"15.0 / 2.0 =\", 15.0 / 2.0)\n",
    "print(\"15.0 // 2.0 =\", 15.0 // 2.0)\n",
    "print(\"15.0 % 2.0 =\", 15 % 2.0)\n",
    "print()"
   ]
  },
  {
   "cell_type": "markdown",
   "metadata": {},
   "source": [
    "\n"
   ]
  },
  {
   "cell_type": "raw",
   "metadata": {},
   "source": [
    "15 / 2 =  7.5\n",
    "15 // 2 =  7\n",
    "15 % 2 =  1\n",
    "\n",
    "15.0 / 2.0 = 7.5\n",
    "15.0 // 2.0 = 7.0\n",
    "15.0 % 2.0 = 1.0"
   ]
  },
  {
   "cell_type": "markdown",
   "metadata": {},
   "source": [
    "\n",
    "The order of operations is the same as in math:\n",
    "\n",
    "1. parentheses `()`\n",
    "2. exponents `**`\n",
    "3. multiplication `*`, division `\\`, integer division `\\\\`, and remainder `%`\n",
    "4. addition `+` and subtraction `-`\n",
    "\n",
    "\n",
    "\n",
    "Talking to humans (and other intelligent beings)\n",
    "================================================\n",
    "\n",
    "\n",
    "\n",
    "Often in programming you are doing something complicated and may not in the future remember what you did. When this happens the program should probably be commented. A comment is a note to you and other programmers explaining what is happening. For example:\n"
   ]
  },
  {
   "cell_type": "code",
   "execution_count": null,
   "metadata": {},
   "outputs": [],
   "source": [
    "#Not quite PI, but an incredible approximation\n",
    "print(22/7)"
   ]
  },
  {
   "cell_type": "markdown",
   "metadata": {},
   "source": [
    "\n",
    "\n",
    "Examples\n",
    "========\n",
    "\n",
    "\n",
    "Most chapters contain examples of the programming features introduced in the chapter. You should at least look over them to see if you understand them. If you don't, you may want to type them in and see what happens. Mess around with them, change them, and see what happens."
   ]
  },
  {
   "cell_type": "code",
   "execution_count": null,
   "metadata": {},
   "outputs": [],
   "source": [
    "print(\"Something's rotten in the state of Denmark.\")\n",
    "print(\"                -- Shakespeare\")"
   ]
  },
  {
   "cell_type": "markdown",
   "metadata": {},
   "source": [
    "\n",
    "Output:\n"
   ]
  },
  {
   "cell_type": "raw",
   "metadata": {},
   "source": [
    "Something's rotten in the state of Denmark.\n",
    "                -- Shakespeare"
   ]
  },
  {
   "cell_type": "markdown",
   "metadata": {},
   "source": [
    "\n",
    "School.py\n"
   ]
  },
  {
   "cell_type": "code",
   "execution_count": null,
   "metadata": {},
   "outputs": [],
   "source": [
    "#This is not quite true outside of USA\n",
    "# and is based on my dim memories of my younger years\n",
    "print(\"Firstish Grade\")\n",
    "print(\"1+1 =\", 1+1)\n",
    "print(\"2+4 =\", 2+4)\n",
    "print(\"5-2 =\", 5-2)\n",
    "print()\n",
    "print(\"Thirdish Grade\")\n",
    "print(\"243-23 =\", 243-23)\n",
    "print(\"12*4 =\", 12*4)\n",
    "print(\"12/3 =\", 12//3)\n",
    "print(\"13/3 =\", 13//3, \"R\", 13%3)\n",
    "print()\n",
    "print(\"Junior High\")\n",
    "print(\"123.25-62.75 =\", 123.25-62.75)\n",
    "print(\"(4+3)*2 =\", (4+3)*2)\n",
    "print(\"4+3*2 =\", 4+3*2)\n",
    "print(\"3**2 =\", 3**2)\n",
    "print()"
   ]
  },
  {
   "cell_type": "markdown",
   "metadata": {},
   "source": [
    "\n",
    "Output:\n"
   ]
  },
  {
   "cell_type": "raw",
   "metadata": {},
   "source": [
    "Firstish Grade\n",
    "1+1 = 2\n",
    "2+4 = 6\n",
    "5-2 = 3\n",
    "\n",
    "Thirdish Grade\n",
    "243-23 = 220\n",
    "12*4 = 48\n",
    "12/3 = 4\n",
    "13/3 = 4 R 1\n",
    "\n",
    "Junior High\n",
    "123.25-62.75 = 60.5\n",
    "(4+3)*2 = 14\n",
    "4+3*2 = 10\n",
    "3**2 = 9"
   ]
  },
  {
   "cell_type": "markdown",
   "metadata": {},
   "source": [
    "\n",
    "Exercises\n",
    "=========\n",
    "\n",
    "Write a program that prints your full name and your birthday as separate strings.\n"
   ]
  },
  {
   "cell_type": "code",
   "execution_count": null,
   "metadata": {},
   "outputs": [],
   "source": []
  },
  {
   "cell_type": "markdown",
   "metadata": {},
   "source": [
    "Write a program that shows the use of at least 4 of the 7 math functions."
   ]
  },
  {
   "cell_type": "code",
   "execution_count": null,
   "metadata": {},
   "outputs": [],
   "source": []
  }
 ],
 "metadata": {
  "kernelspec": {
   "display_name": "Python 3",
   "language": "python",
   "name": "python3"
  },
  "language_info": {
   "codemirror_mode": {
    "name": "ipython",
    "version": 3
   },
   "file_extension": ".py",
   "mimetype": "text/x-python",
   "name": "python",
   "nbconvert_exporter": "python",
   "pygments_lexer": "ipython3",
   "version": "3.8.10"
  }
 },
 "nbformat": 4,
 "nbformat_minor": 4
}
