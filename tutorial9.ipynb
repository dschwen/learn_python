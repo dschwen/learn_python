{
 "cells": [
  {
   "cell_type": "markdown",
   "metadata": {},
   "source": [
    "Here is a little example of boolean expressions:\n"
   ]
  },
  {
   "cell_type": "code",
   "execution_count": null,
   "metadata": {},
   "outputs": [],
   "source": [
    "a = 6\n",
    "b = 7\n",
    "c = 42\n",
    "print(1, a == 6)\n",
    "print(2, a == 7)\n",
    "print(3, a == 6 and b == 7)\n",
    "print(4, a == 7 and b == 7)\n",
    "print(5, not a == 7)\n",
    "print(6, a == 7 or b == 7)\n",
    "print(7, a == 7 or b == 6)\n",
    "print(8, not (a == 7 and b == 6))\n",
    "print(9, not a == 7 and b == 6)"
   ]
  },
  {
   "cell_type": "markdown",
   "metadata": {},
   "source": [
    "With the output being:\n"
   ]
  },
  {
   "cell_type": "raw",
   "metadata": {},
   "source": [
    "1 True\n",
    "2 False\n",
    "3 True\n",
    "4 False\n",
    "5 True\n",
    "6 True\n",
    "7 False\n",
    "8 True\n",
    "9 False"
   ]
  },
  {
   "cell_type": "markdown",
   "metadata": {},
   "source": [
    "What is going on? The program consists of a bunch of funny looking print functions. Each print function prints a number and a expression. The number is to help keep track of which statement I am dealing with. Notice how each expression ends up being either True or False.\n",
    "The lines:\n"
   ]
  },
  {
   "cell_type": "code",
   "execution_count": null,
   "metadata": {},
   "outputs": [],
   "source": [
    "print(1, a == 6)\n",
    "print(2, a == 7)"
   ]
  },
  {
   "cell_type": "markdown",
   "metadata": {},
   "source": [
    "\n",
    "print out a True and a False respectively just as expected since the first is true since is 6 and the second is false since a is not 7. The third print, `print(3, a == 6 and b == 7)`, is a little different. The operator and means if both the statement before and the statement after are true then the whole expression is true otherwise the whole expression is false. The next line, `print(4, a == 7 and b == 7)`, shows how if part of an and expression is false, the whole thing is false. The behavior of and can be summarized as follows:\n",
    "\n",
    "\n",
    "\n",
    "\n",
    "|  |  |  |  |\n",
    "| --- | --- | --- | --- |\n",
    "| expression | result |  |  |\n",
    "| true and true | true |  |  |\n",
    "| true and false | false |  |  |\n",
    "| false and true* | false |  |  |\n",
    "| false and false* | false |  |  |\n",
    "\n",
    "\n",
    "\n",
    "*Notice that if the first expression is false Python does not check the second expression since it knows the whole expression is false.\n",
    "\n",
    "\n",
    "The next line, `print(5, not a == 7)`, uses the not operator. not just gives the opposite of the expression (The expression could be rewritten as print(5, a != 7)). Here's the table:\n",
    "\n",
    "\n",
    "\n",
    "\n",
    "|  |  |  |  |\n",
    "| --- | --- | --- | --- |\n",
    "| expression | result |  |  |\n",
    "| not true | false |  |  |\n",
    "| not false | true |  |  |\n",
    "\n",
    "\n",
    "\n",
    "The two following lines, `print(6, a == 7 or b == 7)` and `print(7, a == 7 or b == 6)`, use the or operator. The or operator returns true if the first expression is true, or if the second expression is true or both are true. If neither are true it returns false. Here's the table:\n",
    "\n",
    "\n",
    "\n",
    "\n",
    "|  |  |  |  |\n",
    "| --- | --- | --- | --- |\n",
    "| expression | result |  |  |\n",
    "| true or true* | true |  |  |\n",
    "| true or false* | true |  |  |\n",
    "| false or true | true |  |  |\n",
    "| false or false | false |  |  |\n",
    "\n",
    "\n",
    "\n",
    "*Notice that if the first expression is true Python doesn't check the second expression since it knows the whole expression is true. This works since or is true if at least one half of the expression is true. The first part is true so the second part could be either false or true, but the whole expression is still true.\n",
    "\n",
    "\n",
    "The next two lines, `print(8, not (a == 7 and b == 6))` and `print(9, not a == 7 and b == 6)`, show that parentheses can be used to group expressions and force one part to be evaluated first. Notice that the parentheses changed the expression from false to true. This occurred since the parentheses forced the not to apply to the whole expression instead of just the a == 7 portion.\n",
    "\n",
    "\n",
    "Here is an example of using a boolean expression:\n"
   ]
  },
  {
   "cell_type": "code",
   "execution_count": null,
   "metadata": {},
   "outputs": [],
   "source": [
    "list = [\"Life\", \"The Universe\", \"Everything\", \"Jack\", \"Jill\", \"Life\", \"Jill\"]\n",
    "\n",
    "#make a copy of the list.  See the More on Lists chapter to explain what\n",
    "#[:] means.\n",
    "copy = list[:]\n",
    "#sort the copy\n",
    "copy.sort()\n",
    "prev = copy[0]\n",
    "del copy[0]\n",
    "\n",
    "count = 0\n",
    "\n",
    "#go through the list searching for a match\n",
    "while count < len(copy) and copy[count] != prev:\n",
    "    prev = copy[count]\n",
    "    count = count + 1\n",
    "\n",
    "#If a match was not found then count can't be < len\n",
    "#since the while loop continues while count is < len\n",
    "#and no match is found\n",
    "if count < len(copy):\n",
    "    print(\"First Match: \", prev)"
   ]
  },
  {
   "cell_type": "markdown",
   "metadata": {},
   "source": [
    "\n",
    "\n",
    "And here is the output:\n"
   ]
  },
  {
   "cell_type": "raw",
   "metadata": {},
   "source": [
    "First Match:  Jill"
   ]
  },
  {
   "cell_type": "markdown",
   "metadata": {},
   "source": [
    "\n",
    "\n",
    "This program works by continuing to check for match `while count < len(copy) and copy[count] != prev:` . When either count is greater than the last index of copy or a match has been found the and is no longer true so the loop exits. The if simply checks to make sure that the while exited because a match was found.\n",
    "\n",
    "\n",
    "The other 'trick' of and is used in this example. If you look at the table for and notice the * on the third and fourth entries because these are not checked. If `count >= len(copy)` (in other words count < len(copy) is false) then `copy[count]` is never looked at. This is because Python knows that if the first is false then they both can't be true. This is known as a short circuit and is useful if the second half of the and will cause an error if something is wrong. I used the first expression (`count < len(copy)`) to check and see if count was a valid index for copy. (If you don't believe me remove the matches 'Jill' and 'Life', check that it still works and then reverse the order of `count < len(copy) and copy[count] != prev` to `copy[count] != prev and count < len(copy)`.)\n",
    "\n",
    "\n",
    "Boolean expressions can be used when you need to check two or more different things at once.\n",
    "\n",
    "\n",
    "Examples\n",
    "========\n",
    "\n",
    "\n",
    "\n",
    "password1.py\n"
   ]
  },
  {
   "cell_type": "code",
   "execution_count": null,
   "metadata": {},
   "outputs": [],
   "source": [
    "## This programs asks a user for a name and a password.\n",
    "# It then checks them to make sure the the user is allowed in.\n",
    "\n",
    "name = input(\"What is your name? \")\n",
    "password = input(\"What is the password? \")\n",
    "if name == \"Josh\" and password == \"Friday\":\n",
    "    print(\"Welcome Josh\")\n",
    "elif name == \"Fred\" and password == \"Rock\":\n",
    "    print(\"Welcome Fred\")\n",
    "else:\n",
    "    print(\"I don't know you.\")"
   ]
  },
  {
   "cell_type": "markdown",
   "metadata": {},
   "source": [
    "\n",
    "\n",
    "Sample runs\n"
   ]
  },
  {
   "cell_type": "raw",
   "metadata": {},
   "source": [
    "What is your name? Josh\n",
    "What is the password? Friday\n",
    "Welcome Josh\n",
    "\n",
    "What is your name? Bill\n",
    "What is the password? Money\n",
    "I don't know you."
   ]
  },
  {
   "cell_type": "markdown",
   "metadata": {},
   "source": [
    "\n",
    "\n",
    "Exercises\n",
    "=========\n",
    "\n",
    "\n",
    "\n",
    "Write a program that has a user guess your name, but they only get 3 chances\n",
    "to do so until the program quits.\n"
   ]
  },
  {
   "cell_type": "code",
   "execution_count": null,
   "metadata": {},
   "outputs": [],
   "source": []
  }
 ],
 "metadata": {
  "kernelspec": {
   "display_name": "Python 3",
   "language": "python",
   "name": "python3"
  },
  "language_info": {
   "codemirror_mode": {
    "name": "ipython",
    "version": 3
   },
   "file_extension": ".py",
   "mimetype": "text/x-python",
   "name": "python",
   "nbconvert_exporter": "python",
   "pygments_lexer": "ipython3",
   "version": "3.8.10"
  }
 },
 "nbformat": 4,
 "nbformat_minor": 4
}
