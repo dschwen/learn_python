{
 "cells": [
  {
   "cell_type": "markdown",
   "metadata": {},
   "source": [
    "Here is a simple example of file IO:\n"
   ]
  },
  {
   "cell_type": "code",
   "execution_count": null,
   "metadata": {},
   "outputs": [],
   "source": [
    "#Write a file\n",
    "out_file = open(\"test.txt\", \"w\")\n",
    "out_file.write(\"This Text is going to out file\\nLook at it and see\\n\")\n",
    "out_file.close()\n",
    "\n",
    "#Read a file\n",
    "in_file = open(\"test.txt\", \"r\")\n",
    "text = in_file.read()\n",
    "in_file.close()\n",
    "\n",
    "print(text)"
   ]
  },
  {
   "cell_type": "markdown",
   "metadata": {},
   "source": [
    "The output and the contents of the file test.txt are:\n"
   ]
  },
  {
   "cell_type": "raw",
   "metadata": {},
   "source": [
    "This Text is going to out file\n",
    "Look at it and see"
   ]
  },
  {
   "cell_type": "markdown",
   "metadata": {},
   "source": [
    "Notice that it wrote a file called test.txt in the directory that you ran the program from. The `\\n` in the string tells Python to put a **n**ewline where it is.\n",
    "\n",
    "\n",
    "A overview of file IO is:\n",
    "\n",
    "1. Get a file object with the `open` function.\n",
    "2. Read or write to the file object (depending on if you open it with a \"r\" or \"w\")\n",
    "3. Close it\n",
    "\n",
    "\n",
    "\n",
    "The first step is to get a file object. The way to do this is to use the `open` function. The format is `file_object = open(filename, mode)` where `file_object` is the variable to put the file object, `filename` is a string with the filename, and `mode` is either `\"r\"` to **r**ead a file or `\"w\"` to **w**rite a file. Next the file object's functions can be called. The two most common functions are `read` and `write`. The `write` function adds a string to the end of the file. The `read` function reads the next thing in the file and returns it as a string. If no argument is given it will return the whole file (as done in the example).\n",
    "\n",
    "\n",
    "Now here is a new version of the phone numbers program that we made earlier:\n"
   ]
  },
  {
   "cell_type": "code",
   "execution_count": null,
   "metadata": {},
   "outputs": [],
   "source": [
    "def print_numbers(numbers):\n",
    "    print(\"Telephone Numbers:\")\n",
    "    for x in numbers:\n",
    "        print(\"Name: \", x, \" \\tNumber: \", numbers[x])\n",
    "    print()\n",
    "\n",
    "def add_number(numbers, name, number):\n",
    "    numbers[name] = number\n",
    "\n",
    "def lookup_number(numbers, name):\n",
    "    if name in numbers:\n",
    "        return \"The number is \"+numbers[name]\n",
    "    else:\n",
    "        return name+\" was not found\"\n",
    "\n",
    "def remove_number(numbers, name):\n",
    "    if name in numbers:\n",
    "        del numbers[name]\n",
    "    else:\n",
    "        print(name, \" was not found\")\n",
    "\n",
    "\n",
    "def load_numbers(numbers, filename):\n",
    "    in_file = open(filename, \"r\")\n",
    "    while True:\n",
    "        in_line = in_file.readline()\n",
    "        if in_line == \"\":\n",
    "            break\n",
    "        in_line = in_line[:-1]\n",
    "        [name, number] = in_line.split(\",\")\n",
    "        numbers[name] = number\n",
    "    in_file.close()\n",
    "\n",
    "def save_numbers(numbers, filename):\n",
    "    out_file = open(filename, \"w\")\n",
    "    for x in numbers:\n",
    "        out_file.write(x+\",\"+numbers[x]+\"\\n\")\n",
    "    out_file.close()\n",
    "\n",
    "\n",
    "def print_menu():\n",
    "    print('1. Print Phone Numbers')\n",
    "    print('2. Add a Phone Number')\n",
    "    print('3. Remove a Phone Number')\n",
    "    print('4. Lookup a Phone Number')\n",
    "    print('5. Load numbers')\n",
    "    print('6. Save numbers')\n",
    "    print('7. Quit')\n",
    "    print()\n",
    "\n",
    "phone_list = {}\n",
    "menu_choice = 0\n",
    "print_menu()\n",
    "while menu_choice != 7:\n",
    "    menu_choice = int(input(\"Type in a number (1-7):\"))\n",
    "    if menu_choice == 1:\n",
    "        print_numbers(phone_list)\n",
    "    elif menu_choice == 2:\n",
    "        print(\"Add Name and Number\")\n",
    "        name = input(\"Name:\")\n",
    "        phone = input(\"Number:\")\n",
    "        add_number(phone_list, name, phone)\n",
    "    elif menu_choice == 3:\n",
    "        print(\"Remove Name and Number\")\n",
    "        name = input(\"Name:\")\n",
    "        remove_number(phone_list, name)\n",
    "    elif menu_choice == 4:\n",
    "        print(\"Lookup Number\")\n",
    "        name = input(\"Name:\")\n",
    "        print(lookup_number(phone_list, name))\n",
    "    elif menu_choice == 5:\n",
    "        filename = input(\"Filename to load:\")\n",
    "        load_numbers(phone_list, filename)\n",
    "    elif menu_choice == 6:\n",
    "        filename = input(\"Filename to save:\")\n",
    "        save_numbers(phone_list, filename)\n",
    "    elif menu_choice == 7:\n",
    "        pass\n",
    "    else:\n",
    "        print_menu()\n",
    "print(\"Goodbye\")"
   ]
  },
  {
   "cell_type": "markdown",
   "metadata": {},
   "source": [
    "Notice that it now includes saving and loading files. Here is some output of my running it twice:\n"
   ]
  },
  {
   "cell_type": "raw",
   "metadata": {},
   "source": [
    "1. Print Phone Numbers\n",
    "2. Add a Phone Number\n",
    "3. Remove a Phone Number\n",
    "4. Lookup a Phone Number\n",
    "5. Load numbers\n",
    "6. Save numbers\n",
    "7. Quit\n",
    "\n",
    "Type in a number (1-7):2\n",
    "Add Name and Number\n",
    "Name:Jill\n",
    "Number:1234\n",
    "Type in a number (1-7):2\n",
    "Add Name and Number\n",
    "Name:Fred\n",
    "Number:4321\n",
    "Type in a number (1-7):1\n",
    "Telephone Numbers:\n",
    "Name:  Jill     Number:  1234\n",
    "Name:  Fred     Number:  4321\n",
    "\n",
    "Type in a number (1-7):6\n",
    "Filename to save:numbers.txt\n",
    "Type in a number (1-7):7\n",
    "Goodbye"
   ]
  },
  {
   "cell_type": "markdown",
   "metadata": {},
   "source": [
    "\n"
   ]
  },
  {
   "cell_type": "raw",
   "metadata": {},
   "source": [
    "1. Print Phone Numbers\n",
    "2. Add a Phone Number\n",
    "3. Remove a Phone Number\n",
    "4. Lookup a Phone Number\n",
    "5. Load numbers\n",
    "6. Save numbers\n",
    "7. Quit\n",
    "\n",
    "Type in a number (1-7):5\n",
    "Filename to load:numbers.txt\n",
    "Type in a number (1-7):1\n",
    "Telephone Numbers:\n",
    "Name:  Jill     Number:  1234\n",
    "Name:  Fred     Number:  4321\n",
    "\n",
    "Type in a number (1-7):7\n",
    "Goodbye"
   ]
  },
  {
   "cell_type": "markdown",
   "metadata": {},
   "source": [
    "\n",
    "\n",
    "The new portions of this program are:\n"
   ]
  },
  {
   "cell_type": "raw",
   "metadata": {},
   "source": [
    "def load_numbers(numbers, filename):\n",
    "    in_file = open(filename, \"r\")\n",
    "    while True:\n",
    "        in_line = in_file.readline()\n",
    "        if len(in_line) == 0:\n",
    "            break\n",
    "        in_line = in_line[:-1]\n",
    "        [name, number] = in_line.split(\",\")\n",
    "        numbers[name] = number\n",
    "    in_file.close()"
   ]
  },
  {
   "cell_type": "markdown",
   "metadata": {},
   "source": [
    "\n"
   ]
  },
  {
   "cell_type": "raw",
   "metadata": {},
   "source": [
    "def save_numbers(numbers, filename):\n",
    "    out_file = open(filename, \"w\")\n",
    "    for x in numbers:\n",
    "        out_file.write(x+\",\"+numbers[x]+\"\\n\")\n",
    "    out_file.close()"
   ]
  },
  {
   "cell_type": "markdown",
   "metadata": {},
   "source": [
    "\n",
    "\n",
    "First we will look at the save portion of the program. First, it creates a file object with the command open(filename, \"w\"). Next, it goes through and creates a line for each of the phone numbers with the command `out_file.write(x+\",\"+numbers[x]+\"\\n\")`. This writes out a line that contains the name, a comma, the number and follows it by a newline.\n",
    "\n",
    "\n",
    "The loading portion is a little more complicated. It starts by getting a file object. Then, it uses a while True: loop to keep looping until a `break` statement is encountered. Next, it gets a line with the line in\\_line = in\\_file.readline(). The `readline` function will return a empty string (len(string) == 0) when the end of the file is reached. The `if` statement checks for this and `break`s out of the `while` loop when that happens. Of course if the `readline` function did not return the newline at the end of the line there would be no way to tell if an empty string was an empty line or the end of the file so the newline is left in what `readline` returns. Hence we have to get rid of the newline. The line `in_line = in_line[:-1]` does this for us by dropping the last character. Next the line `[name, number] = string.split(in_line, \",\")` splits the line at the comma into a name and a number. This is then added to the `numbers` dictionary.\n",
    "\n",
    "\n",
    "Exercises\n",
    "=========\n",
    "\n",
    "\n",
    "\n",
    "Now modify the grades program from notebook 10 (copied below) so that it uses file\n",
    "IO to keep a record of the students.\n"
   ]
  },
  {
   "cell_type": "code",
   "execution_count": null,
   "metadata": {},
   "outputs": [],
   "source": [
    "max_points = [25, 25, 50, 25, 100]\n",
    "assignments = ['hw ch 1', 'hw ch 2', 'quiz   ', 'hw ch 3', 'test']\n",
    "students = {'#Max':max_points}\n",
    "\n",
    "def print_menu():\n",
    "    print(\"1. Add student\")\n",
    "    print(\"2. Remove student\")\n",
    "    print(\"3. Print grades\")\n",
    "    print(\"4. Record grade\")\n",
    "    print(\"5. Print Menu\")\n",
    "    print(\"6. Exit\")\n",
    "\n",
    "def print_all_grades():\n",
    "    print('\\t', end=' ')\n",
    "    for i in range(len(assignments)):\n",
    "        print(assignments[i], '\\t', end=' ')\n",
    "    print()\n",
    "    keys = list(students.keys())\n",
    "    keys.sort()\n",
    "    for x in keys:\n",
    "        print(x, '\\t', end=' ')\n",
    "        grades = students[x]\n",
    "        print_grades(grades)\n",
    "\n",
    "def print_grades(grades):\n",
    "    for i in range(len(grades)):\n",
    "        print(grades[i], '\\t\\t', end=' ')\n",
    "    print()\n",
    "\n",
    "print_menu()\n",
    "menu_choice = 0\n",
    "while menu_choice != 6:\n",
    "    print()\n",
    "    menu_choice = int(input(\"Menu Choice (1-6):\"))\n",
    "    if menu_choice == 1:\n",
    "        name = input(\"Student to add:\")\n",
    "        students[name] = [0]*len(max_points)\n",
    "    elif menu_choice == 2:\n",
    "        name = input(\"Student to remove:\")\n",
    "        if name in students:\n",
    "            del students[name]\n",
    "        else:\n",
    "            print(\"Student: \", name, \" not found\")\n",
    "    elif menu_choice == 3:\n",
    "        print_all_grades()\n",
    "\n",
    "    elif menu_choice == 4:\n",
    "        print(\"Record Grade\")\n",
    "        name = input(\"Student:\")\n",
    "        if name in students:\n",
    "            grades = students[name]\n",
    "            print(\"Type in the number of the grade to record\")\n",
    "            print(\"Type a 0 (zero) to exit\")\n",
    "            for i in range(len(assignments)):\n",
    "                print(i+1, ' ', assignments[i], '\\t', end=' ')\n",
    "            print()\n",
    "            print_grades(grades)\n",
    "            which = 1234\n",
    "            while which != -1:\n",
    "                which = int(input(\"Change which Grade:\"))\n",
    "                which = which-1\n",
    "                if 0 <= which < len(grades):\n",
    "                    grade = int(input(\"Grade:\"))\n",
    "                    grades[which] = grade\n",
    "                elif which != -1:\n",
    "                    print(\"Invalid Grade Number\")\n",
    "        else:\n",
    "            print(\"Student not found\")\n",
    "    elif menu_choice != 6:\n",
    "        print_menu()"
   ]
  }
 ],
 "metadata": {
  "kernelspec": {
   "display_name": "Python 3",
   "language": "python",
   "name": "python3"
  },
  "language_info": {
   "codemirror_mode": {
    "name": "ipython",
    "version": 3
   },
   "file_extension": ".py",
   "mimetype": "text/x-python",
   "name": "python",
   "nbconvert_exporter": "python",
   "pygments_lexer": "ipython3",
   "version": "3.8.10"
  }
 },
 "nbformat": 4,
 "nbformat_minor": 4
}
