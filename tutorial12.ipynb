{
 "cells": [
  {
   "cell_type": "markdown",
   "metadata": {},
   "source": [
    "We have already seen lists and how they can be used. Now that you have some more background I will go into more detail about lists. First we will look at more ways to get at the elements in a list and then we will talk about copying them.\n",
    "\n",
    "\n",
    "Here are some examples of using indexing to access a single element of an list. Execute the cells below in order:\n"
   ]
  },
  {
   "cell_type": "code",
   "execution_count": null,
   "metadata": {},
   "outputs": [],
   "source": [
    "list = ['zero', 'one', 'two', 'three', 'four', 'five']\n",
    "list[0]"
   ]
  },
  {
   "cell_type": "code",
   "execution_count": null,
   "metadata": {},
   "outputs": [],
   "source": [
    "list[4]"
   ]
  },
  {
   "cell_type": "code",
   "execution_count": null,
   "metadata": {},
   "outputs": [],
   "source": [
    "list[5]"
   ]
  },
  {
   "cell_type": "markdown",
   "metadata": {},
   "source": [
    "You should have gotten the result 'zero', 'four', 'five'.\n",
    "\n",
    "All those examples should look familiar to you. If you want the first item in the list just look at index 0. The second item is index 1 and so on through the list. However, what if you want the last item in the list? One way could be to use the `len` function like `list[len(list)-1]`. This way works since the `len` function always returns the last index plus one. The second from the last would then be `list[len(list)-2]`. There is an easier way to do this. In Python the last item is always index -1. The second to the last is index -2 and so on. Here are some more examples:\n"
   ]
  },
  {
   "cell_type": "code",
   "execution_count": null,
   "metadata": {},
   "outputs": [],
   "source": [
    "list[len(list)-1]"
   ]
  },
  {
   "cell_type": "raw",
   "metadata": {},
   "source": [
    "'five'"
   ]
  },
  {
   "cell_type": "code",
   "execution_count": null,
   "metadata": {},
   "outputs": [],
   "source": [
    "list[len(list)-2]"
   ]
  },
  {
   "cell_type": "raw",
   "metadata": {},
   "source": [
    "'four'"
   ]
  },
  {
   "cell_type": "code",
   "execution_count": null,
   "metadata": {},
   "outputs": [],
   "source": [
    "list[-1]"
   ]
  },
  {
   "cell_type": "raw",
   "metadata": {},
   "source": [
    "'five'"
   ]
  },
  {
   "cell_type": "code",
   "execution_count": null,
   "metadata": {},
   "outputs": [],
   "source": [
    "list[-2]"
   ]
  },
  {
   "cell_type": "raw",
   "metadata": {},
   "source": [
    "'four'"
   ]
  },
  {
   "cell_type": "code",
   "execution_count": null,
   "metadata": {},
   "outputs": [],
   "source": [
    "list[-6]"
   ]
  },
  {
   "cell_type": "raw",
   "metadata": {},
   "source": [
    "'zero'"
   ]
  },
  {
   "cell_type": "markdown",
   "metadata": {},
   "source": [
    "\n",
    "Thus any item in the list can be indexed in two ways: from the front and from the back.\n",
    "\n",
    "\n",
    "Another useful way to get into parts of lists is using slices. Here is another example to give you an idea what they can be used for:\n"
   ]
  },
  {
   "cell_type": "code",
   "execution_count": null,
   "metadata": {},
   "outputs": [],
   "source": [
    "list = [0, 'Fred', 2, 'S.P.A.M.', 'Stocking', 42, \"Jack\", \"Jill\"]\n",
    "list[0]"
   ]
  },
  {
   "cell_type": "raw",
   "metadata": {},
   "source": [
    "0"
   ]
  },
  {
   "cell_type": "code",
   "execution_count": null,
   "metadata": {},
   "outputs": [],
   "source": [
    "list[7]"
   ]
  },
  {
   "cell_type": "raw",
   "metadata": {},
   "source": [
    "'Jill'"
   ]
  },
  {
   "cell_type": "code",
   "execution_count": null,
   "metadata": {},
   "outputs": [],
   "source": [
    "list[0:8]"
   ]
  },
  {
   "cell_type": "raw",
   "metadata": {},
   "source": [
    "[0, 'Fred', 2, 'S.P.A.M.', 'Stocking', 42, 'Jack', 'Jill']"
   ]
  },
  {
   "cell_type": "code",
   "execution_count": null,
   "metadata": {},
   "outputs": [],
   "source": [
    "list[2:4]"
   ]
  },
  {
   "cell_type": "raw",
   "metadata": {},
   "source": [
    "[2, 'S.P.A.M.']"
   ]
  },
  {
   "cell_type": "code",
   "execution_count": null,
   "metadata": {},
   "outputs": [],
   "source": [
    "list[4:7]"
   ]
  },
  {
   "cell_type": "raw",
   "metadata": {},
   "source": [
    "['Stocking', 42, 'Jack']"
   ]
  },
  {
   "cell_type": "code",
   "execution_count": null,
   "metadata": {},
   "outputs": [],
   "source": [
    "list[1:5]"
   ]
  },
  {
   "cell_type": "raw",
   "metadata": {},
   "source": [
    "['Fred', 2, 'S.P.A.M.', 'Stocking']"
   ]
  },
  {
   "cell_type": "markdown",
   "metadata": {},
   "source": [
    "\n",
    "Slices are used to return part of a list. The slice operator is in the form `list[first_index:following_index]`. The slice goes from the `first_index` to the index before the `following_index`. You can use both types of indexing:\n"
   ]
  },
  {
   "cell_type": "code",
   "execution_count": null,
   "metadata": {},
   "outputs": [],
   "source": [
    "list[-4:-2]"
   ]
  },
  {
   "cell_type": "raw",
   "metadata": {},
   "source": [
    "['Stocking', 42]"
   ]
  },
  {
   "cell_type": "code",
   "execution_count": null,
   "metadata": {},
   "outputs": [],
   "source": [
    "list[-4]"
   ]
  },
  {
   "cell_type": "raw",
   "metadata": {},
   "source": [
    "'Stocking'"
   ]
  },
  {
   "cell_type": "code",
   "execution_count": null,
   "metadata": {},
   "outputs": [],
   "source": [
    "list[-4:6]"
   ]
  },
  {
   "cell_type": "raw",
   "metadata": {},
   "source": [
    "['Stocking', 42]"
   ]
  },
  {
   "cell_type": "markdown",
   "metadata": {},
   "source": [
    "\n",
    "Another trick with slices is the unspecified index. If the first index is not specified the beginning of the list is assumed. If the following index is not specified the whole rest of the list is assumed. Here are some examples:\n"
   ]
  },
  {
   "cell_type": "code",
   "execution_count": null,
   "metadata": {},
   "outputs": [],
   "source": [
    "list[:2]"
   ]
  },
  {
   "cell_type": "raw",
   "metadata": {},
   "source": [
    "[0, 'Fred']"
   ]
  },
  {
   "cell_type": "code",
   "execution_count": null,
   "metadata": {},
   "outputs": [],
   "source": [
    "list[-2:]"
   ]
  },
  {
   "cell_type": "raw",
   "metadata": {},
   "source": [
    "['Jack', 'Jill']"
   ]
  },
  {
   "cell_type": "code",
   "execution_count": null,
   "metadata": {},
   "outputs": [],
   "source": [
    "list[:3]"
   ]
  },
  {
   "cell_type": "raw",
   "metadata": {},
   "source": [
    "[0, 'Fred', 2]"
   ]
  },
  {
   "cell_type": "code",
   "execution_count": null,
   "metadata": {},
   "outputs": [],
   "source": [
    "list[:-5]"
   ]
  },
  {
   "cell_type": "raw",
   "metadata": {},
   "source": [
    "[0, 'Fred', 2]"
   ]
  },
  {
   "cell_type": "markdown",
   "metadata": {},
   "source": [
    "\n",
    "Here is a program example:\n"
   ]
  },
  {
   "cell_type": "code",
   "execution_count": null,
   "metadata": {},
   "outputs": [],
   "source": [
    "poem = [\"<B>\", \"Jack\", \"and\", \"Jill\", \"</B>\", \"went\", \"up\", \"the\", \"hill\",\\\n",
    "        \"to\", \"<B>\", \"fetch\", \"a\", \"pail\", \"of\", \"</B>\", \"water.\", \"Jack\",\\\n",
    "        \"fell\", \"<B>\", \"down\", \"and\", \"broke\", \"</B>\", \"his\", \"crown\", \"and\",\\\n",
    "        \"<B>\", \"Jill\", \"came\", \"</B>\", \"tumbling\", \"after\"]\n",
    "\n",
    "def get_bolds(list):\n",
    "    ## is_bold tells whether or not the we are currently looking at\n",
    "    ## a bold section of text.\n",
    "    is_bold = False\n",
    "    ## start_block is the index of the start of either an unbolded\n",
    "    ## segment of text or a bolded segment.\n",
    "    start_block = 0\n",
    "    for index in range(len(list)):\n",
    "        ##Handle a starting of bold text\n",
    "        if list[index] == \"<B>\":\n",
    "            if is_bold:\n",
    "                print(\"Error:  Extra Bold\")\n",
    "            ##print \"Not Bold:\", list[start_block:index]\n",
    "            is_bold = True\n",
    "            start_block = index+1\n",
    "        ##Handle end of bold text\n",
    "        ##Remember that the last number in a slice is the index\n",
    "        ## after the last index used.\n",
    "        if list[index] == \"</B>\":\n",
    "            if not is_bold:\n",
    "                print(\"Error: Extra Close Bold\")\n",
    "            print(\"Bold [\", start_block, \":\", index, \"] \",\\\n",
    "            list[start_block:index])\n",
    "            is_bold = False\n",
    "            start_block = index+1\n",
    "\n",
    "get_bolds(poem)"
   ]
  },
  {
   "cell_type": "markdown",
   "metadata": {},
   "source": [
    "with the output being:\n"
   ]
  },
  {
   "cell_type": "raw",
   "metadata": {},
   "source": [
    "Bold [ 1 : 4 ]  ['Jack', 'and', 'Jill']\n",
    "Bold [ 11 : 15 ]  ['fetch', 'a', 'pail', 'of']\n",
    "Bold [ 20 : 23 ]  ['down', 'and', 'broke']\n",
    "Bold [ 28 : 30 ]  ['Jill', 'came']"
   ]
  },
  {
   "cell_type": "markdown",
   "metadata": {},
   "source": [
    "\n",
    "\n",
    "The `get_bold` function takes in a list that is broken into words\n",
    "and token's. The tokens that it looks for are `<B>` which starts\n",
    "the bold text and `<\\B>` which ends bold text. The function\n",
    "`get_bold` goes through and searches for the start and end\n",
    "tokens.\n",
    "\n",
    "\n",
    "The next feature of lists is copying them. If you try something simple like:\n"
   ]
  },
  {
   "cell_type": "code",
   "execution_count": null,
   "metadata": {},
   "outputs": [],
   "source": [
    "a = [1, 2, 3]\n",
    "b = a\n",
    "print(b)"
   ]
  },
  {
   "cell_type": "raw",
   "metadata": {},
   "source": [
    "[1, 2, 3]"
   ]
  },
  {
   "cell_type": "code",
   "execution_count": null,
   "metadata": {},
   "outputs": [],
   "source": [
    "b[1] = 10\n",
    "print(b)"
   ]
  },
  {
   "cell_type": "raw",
   "metadata": {},
   "source": [
    "[1, 10, 3]"
   ]
  },
  {
   "cell_type": "code",
   "execution_count": null,
   "metadata": {},
   "outputs": [],
   "source": [
    "print(a)"
   ]
  },
  {
   "cell_type": "raw",
   "metadata": {},
   "source": [
    "[1, 10, 3]"
   ]
  },
  {
   "cell_type": "markdown",
   "metadata": {},
   "source": [
    "\n",
    "This probably looks surprising since a modification to b\n",
    "resulted in a being changed as well. What happened is that the\n",
    "statement `b = a` makes b a *reference* to the same list that a is a reference to.\n",
    "This means that b and a are different names for the same list.\n",
    "Hence any modification to b changes a as well. However\n",
    "some assignments don't create two names for one list:\n"
   ]
  },
  {
   "cell_type": "code",
   "execution_count": null,
   "metadata": {},
   "outputs": [],
   "source": [
    "a = [1, 2, 3]\n",
    "b = a*2\n",
    "print(a)"
   ]
  },
  {
   "cell_type": "raw",
   "metadata": {},
   "source": [
    "[1, 2, 3]"
   ]
  },
  {
   "cell_type": "code",
   "execution_count": null,
   "metadata": {},
   "outputs": [],
   "source": [
    "print(b)"
   ]
  },
  {
   "cell_type": "raw",
   "metadata": {},
   "source": [
    "[1, 2, 3, 1, 2, 3]"
   ]
  },
  {
   "cell_type": "code",
   "execution_count": null,
   "metadata": {},
   "outputs": [],
   "source": [
    "a[1] = 10\n",
    "print(a)"
   ]
  },
  {
   "cell_type": "raw",
   "metadata": {},
   "source": [
    "[1, 10, 3]"
   ]
  },
  {
   "cell_type": "code",
   "execution_count": null,
   "metadata": {},
   "outputs": [],
   "source": [
    "print(b)"
   ]
  },
  {
   "cell_type": "raw",
   "metadata": {},
   "source": [
    "[1, 2, 3, 1, 2, 3]"
   ]
  },
  {
   "cell_type": "markdown",
   "metadata": {},
   "source": [
    "\n",
    "\n",
    "In this case, b is not a reference to a since the\n",
    "expression `a*2` creates a new list. Then the statement\n",
    "`b = a*2` gives b a reference to `a*2` rather than a\n",
    "reference to a. All assignment operations create a reference.\n",
    "When you pass a list as a argument to a function you create a\n",
    "reference as well. Most of the time you don't have to worry about\n",
    "creating references rather than copies. However when you need to make\n",
    "modifications to one list without changing another name of the list\n",
    "you have to make sure that you have actually created a copy.\n",
    "\n",
    "\n",
    "There are several ways to make a copy of a list. The simplest that\n",
    "works most of the time is the slice operator since it always makes a\n",
    "new list even if it is a slice of a whole list:\n"
   ]
  },
  {
   "cell_type": "code",
   "execution_count": null,
   "metadata": {},
   "outputs": [],
   "source": [
    "a = [1, 2, 3]\n",
    "b = a[:]\n",
    "b[1] = 10\n",
    "print(a)"
   ]
  },
  {
   "cell_type": "raw",
   "metadata": {},
   "source": [
    "[1, 2, 3]"
   ]
  },
  {
   "cell_type": "code",
   "execution_count": null,
   "metadata": {},
   "outputs": [],
   "source": [
    "print(b)"
   ]
  },
  {
   "cell_type": "raw",
   "metadata": {},
   "source": [
    "[1, 10, 3]"
   ]
  },
  {
   "cell_type": "markdown",
   "metadata": {},
   "source": [
    "\n",
    "\n",
    "Taking the slice [:] creates a new copy of the list. However it\n",
    "only copies the outer list. Any sublist inside is still a references\n",
    "to the sublist in the original list. Therefore, when the list\n",
    "contains lists the inner lists have to be copied as well. You could\n",
    "do that manually but Python already contains a module to do it. You\n",
    "use the deepcopy function of the copy module:\n"
   ]
  },
  {
   "cell_type": "code",
   "execution_count": null,
   "metadata": {},
   "outputs": [],
   "source": [
    "import copy\n",
    "a = [[1, 2, 3], [4, 5, 6]]\n",
    "b = a[:]\n",
    "c = copy.deepcopy(a)\n",
    "b[0][1] = 10\n",
    "c[1][1] = 12\n",
    "print(a)"
   ]
  },
  {
   "cell_type": "raw",
   "metadata": {},
   "source": [
    "[[1, 10, 3], [4, 5, 6]]"
   ]
  },
  {
   "cell_type": "code",
   "execution_count": null,
   "metadata": {},
   "outputs": [],
   "source": [
    "print(b)"
   ]
  },
  {
   "cell_type": "raw",
   "metadata": {},
   "source": [
    "[[1, 10, 3], [4, 5, 6]]"
   ]
  },
  {
   "cell_type": "code",
   "execution_count": null,
   "metadata": {},
   "outputs": [],
   "source": [
    "print(c)"
   ]
  },
  {
   "cell_type": "raw",
   "metadata": {},
   "source": [
    "[[1, 2, 3], [4, 12, 6]]"
   ]
  },
  {
   "cell_type": "markdown",
   "metadata": {},
   "source": [
    "\n",
    "First of all, notice that a is an array of arrays. Then notice\n",
    "that when `b[0][1] = 10` is run both a and b are\n",
    "changed, but c is not. This happens because the inner arrays\n",
    "are still references when the slice operator is used. However, with\n",
    "deepcopy, c was fully copied.\n",
    "\n",
    "\n",
    "So, should I worry about references every time I use a function or\n",
    "`=`? The good news is that you only have to worry about\n",
    "references when using dictionaries and lists. Numbers and strings\n",
    "create references when assigned but every operation on numbers and\n",
    "strings that modifies them creates a new copy so you can never modify\n",
    "them unexpectedly. You do have to think about references when you are\n",
    "modifying a list or a dictionary.\n",
    "\n",
    "\n",
    "By now you are probably wondering why are references used at all? The\n",
    "basic reason is speed. It is much faster to make a reference to a\n",
    "thousand element list than to copy all the elements. The other reason\n",
    "is that it allows you to have a function to modify the inputed list\n",
    "or dictionary. Just remember about references if you ever have some\n",
    "weird problem with data being changed when it shouldn't be.\n"
   ]
  }
 ],
 "metadata": {
  "kernelspec": {
   "display_name": "Python 3",
   "language": "python",
   "name": "python3"
  },
  "language_info": {
   "codemirror_mode": {
    "name": "ipython",
    "version": 3
   },
   "file_extension": ".py",
   "mimetype": "text/x-python",
   "name": "python",
   "nbconvert_exporter": "python",
   "pygments_lexer": "ipython3",
   "version": "3.8.10"
  }
 },
 "nbformat": 4,
 "nbformat_minor": 4
}
