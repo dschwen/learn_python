{
 "cells": [
  {
   "cell_type": "markdown",
   "metadata": {},
   "source": [
    "\n",
    "\n",
    "While loops\n",
    "===========\n",
    "\n",
    "\n",
    "\n",
    "Presenting our first control structure. Ordinarily, the computer starts with the first line and then goes down from there. Control structures change the order that statements are executed or decide if a certain statement will be run. Here's the source for a program that uses the while control structure:\n"
   ]
  },
  {
   "cell_type": "code",
   "execution_count": null,
   "metadata": {},
   "outputs": [],
   "source": [
    "a = 0\n",
    "while a < 10:\n",
    "    a = a + 1\n",
    "    print(a)"
   ]
  },
  {
   "cell_type": "markdown",
   "metadata": {},
   "source": [
    "\n",
    "And here is the extremely exciting output:\n"
   ]
  },
  {
   "cell_type": "raw",
   "metadata": {},
   "source": [
    "1\n",
    "2\n",
    "3\n",
    "4\n",
    "5\n",
    "6\n",
    "7\n",
    "8\n",
    "9\n",
    "10"
   ]
  },
  {
   "cell_type": "markdown",
   "metadata": {},
   "source": [
    "\n",
    "(And you thought it couldn't get any worse after turning your computer into a five dollar calculator?) So what does the program do? First it sees the line a = 0 and makes a zero. Then it sees while a < 10: and so the computer checks to see if a < 10. The first time the computer sees this statement a is zero so it is less than 10. In other words while a is less than ten the computer will run the indented statements.\n",
    "\n",
    "\n",
    "Here is another example of the use of while:\n"
   ]
  },
  {
   "cell_type": "code",
   "execution_count": null,
   "metadata": {},
   "outputs": [],
   "source": [
    "a = 1\n",
    "s = 0\n",
    "print('Enter Numbers to add to the sum.')\n",
    "print('Enter 0 to quit.')\n",
    "while a != 0:\n",
    "    print('Current Sum:', s)\n",
    "    a = float(input('Number? '))\n",
    "    s = s + a\n",
    "print('Total Sum =', s)"
   ]
  },
  {
   "cell_type": "markdown",
   "metadata": {},
   "source": [
    "\n",
    "The first time I ran this program Python printed out:\n"
   ]
  },
  {
   "cell_type": "raw",
   "metadata": {},
   "source": [
    "File \"sum.py\", line 3\n",
    "    while a != 0\n",
    "                ^\n",
    "SyntaxError: invalid syntax"
   ]
  },
  {
   "cell_type": "markdown",
   "metadata": {},
   "source": [
    "I had forgotten to put the : after the while. The error message complained about that problem and pointed out where it thought the problem was with the `SPMquot`^\" . After the problem was fixed here was what I did with the program:\n"
   ]
  },
  {
   "cell_type": "raw",
   "metadata": {},
   "source": [
    "Enter Numbers to add to the sum.\n",
    "Enter 0 to quit.\n",
    "Current Sum: 0\n",
    "Number? 200\n",
    "Current Sum: 200.0\n",
    "Number? -15.25\n",
    "Current Sum: 184.75\n",
    "Number? -151.85\n",
    "Current Sum: 32.9\n",
    "Number? 10.00\n",
    "Current Sum: 42.9\n",
    "Number? 0\n",
    "Total Sum = 42.9"
   ]
  },
  {
   "cell_type": "markdown",
   "metadata": {},
   "source": [
    "\n",
    "\n",
    "Notice how print('Total Sum =', s) is only run at the end. The while statement only affects the line that are indented (a.k.a. have spaces at the front). The != means does not equal so while a != 0: means until a is zero run the indented statements that are afterwards. (Note: be consistent, always use spaces or tabs to indent, never mix them.)\n",
    "\n",
    "\n",
    "Now that we have while loops, it is possible to have programs that run forever. An easy way to do this is to write a program like this:\n"
   ]
  },
  {
   "cell_type": "code",
   "execution_count": null,
   "metadata": {},
   "outputs": [],
   "source": [
    "while 1 == 1:\n",
    "     print(\"Help, I'm stuck in a loop.\")"
   ]
  },
  {
   "cell_type": "markdown",
   "metadata": {},
   "source": [
    "\n",
    "\n",
    "This program will output Help, I'm stuck in a loop. until the heat death of the universe or you stop it. The way to stop it is to hit the Control (or Ctrl) button and `c' (the letter) at the same time. This will kill the program. (Note: sometimes you will have to hit enter after the Control C.)\n",
    "\n",
    "\n",
    "Examples\n",
    "========\n",
    "\n",
    "\n",
    "\n",
    "Fibonnacci.py\n"
   ]
  },
  {
   "cell_type": "code",
   "execution_count": null,
   "metadata": {},
   "outputs": [],
   "source": [
    "#This program calulates the fibonnacci sequence\n",
    "a = 0\n",
    "b = 1\n",
    "count = 0\n",
    "max_count = 20\n",
    "while count < max_count:\n",
    "    count = count + 1\n",
    "    #we need to keep track of a since we change it\n",
    "    old_a = a\n",
    "    old_b = b\n",
    "    a = old_b\n",
    "    b = old_a + old_b\n",
    "    #Notice that end=' ' in a print statement keeps it\n",
    "    # from switching to a new line\n",
    "    print(old_a, end=' ')\n",
    "print()"
   ]
  },
  {
   "cell_type": "markdown",
   "metadata": {},
   "source": [
    "\n",
    "Output:\n"
   ]
  },
  {
   "cell_type": "raw",
   "metadata": {},
   "source": [
    "0 1 1 2 3 5 8 13 21 34 55 89 144 233 377 610 987 1597 2584 4181"
   ]
  },
  {
   "cell_type": "markdown",
   "metadata": {},
   "source": [
    "\n",
    "Password.py\n"
   ]
  },
  {
   "cell_type": "code",
   "execution_count": null,
   "metadata": {},
   "outputs": [],
   "source": [
    "# Waits until a password has been entered.  Use control-C to break out with out\n",
    "# the password\n",
    "\n",
    "#Note that this must not be the password so that the\n",
    "# while loop runs at least once.\n",
    "password = \"something else\"\n",
    "\n",
    "#note that != means not equal\n",
    "while password != \"unicorn\":\n",
    "    password = input(\"Password:\")\n",
    "print(\"Welcome in\")"
   ]
  },
  {
   "cell_type": "markdown",
   "metadata": {},
   "source": [
    "\n",
    "Sample run:\n"
   ]
  },
  {
   "cell_type": "raw",
   "metadata": {},
   "source": [
    "Password:auo\n",
    "Password:y22\n",
    "Password:password\n",
    "Password:open sesame\n",
    "Password:unicorn\n",
    "Welcome in"
   ]
  },
  {
   "cell_type": "markdown",
   "metadata": {},
   "source": [
    "\n"
   ]
  }
 ],
 "metadata": {
  "kernelspec": {
   "display_name": "Python 3",
   "language": "python",
   "name": "python3"
  },
  "language_info": {
   "codemirror_mode": {
    "name": "ipython",
    "version": 3
   },
   "file_extension": ".py",
   "mimetype": "text/x-python",
   "name": "python",
   "nbconvert_exporter": "python",
   "pygments_lexer": "ipython3",
   "version": "3.8.10"
  }
 },
 "nbformat": 4,
 "nbformat_minor": 4
}
