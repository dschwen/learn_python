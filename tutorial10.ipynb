{
 "cells": [
  {
   "cell_type": "markdown",
   "metadata": {},
   "source": [
    "This chapter is about dictionaries. Dictionaries have keys and values. The keys are used to find the values. Here is an interactive mode demonstration of creating a phone numbers dictionary:\n"
   ]
  },
  {
   "cell_type": "code",
   "execution_count": null,
   "metadata": {},
   "outputs": [],
   "source": [
    "#Create a dictionary\n",
    "numbers = {}"
   ]
  },
  {
   "cell_type": "code",
   "execution_count": null,
   "metadata": {},
   "outputs": [],
   "source": [
    "#Add some numbers\n",
    "numbers[\"Joe\"] = \"545-4464\"\n",
    "numbers[\"Jill\"] = \"979-4654\""
   ]
  },
  {
   "cell_type": "code",
   "execution_count": null,
   "metadata": {},
   "outputs": [],
   "source": [
    "#Look up a number\n",
    "numbers[\"Joe\"]"
   ]
  },
  {
   "cell_type": "markdown",
   "metadata": {},
   "source": [
    "\n",
    "\n",
    "Here is an example of a program that makes a phone numbers dictionary:\n"
   ]
  },
  {
   "cell_type": "code",
   "execution_count": null,
   "metadata": {},
   "outputs": [],
   "source": [
    "def print_menu():\n",
    "    print('1. Print Phone Numbers')\n",
    "    print('2. Add a Phone Number')\n",
    "    print('3. Remove a Phone Number')\n",
    "    print('4. Lookup a Phone Number')\n",
    "    print('5. Quit')\n",
    "    print()\n",
    "numbers = {}\n",
    "menu_choice = 0\n",
    "print_menu()\n",
    "while menu_choice != 5:\n",
    "    menu_choice = int(input(\"Type in a number (1-5):\"))\n",
    "    if menu_choice == 1:\n",
    "        print(\"Telephone Numbers:\")\n",
    "        for x in sorted(numbers.keys()):\n",
    "            print(\"Name: \", x, \" \\tNumber: \", numbers[x])\n",
    "        print()\n",
    "    elif menu_choice == 2:\n",
    "        print(\"Add Name and Number\")\n",
    "        name = input(\"Name:\")\n",
    "        phone = input(\"Number:\")\n",
    "        numbers[name] = phone\n",
    "    elif menu_choice == 3:\n",
    "        print(\"Remove Name and Number\")\n",
    "        name = input(\"Name:\")\n",
    "        if name in numbers:\n",
    "            del numbers[name]\n",
    "        else:\n",
    "            print(name, \" was not found\")\n",
    "    elif menu_choice == 4:\n",
    "        print(\"Lookup Number\")\n",
    "        name = input(\"Name:\")\n",
    "        if name in numbers:\n",
    "            print(\"The number is\", numbers[name])\n",
    "        else:\n",
    "            print(name, \" was not found\")\n",
    "    elif menu_choice != 5:\n",
    "        print_menu()"
   ]
  },
  {
   "cell_type": "markdown",
   "metadata": {},
   "source": [
    "And here is my output:\n"
   ]
  },
  {
   "cell_type": "raw",
   "metadata": {},
   "source": [
    "1. Print Phone Numbers\n",
    "2. Add a Phone Number\n",
    "3. Remove a Phone Number\n",
    "4. Lookup a Phone Number\n",
    "5. Quit\n",
    "\n",
    "Type in a number (1-5):2\n",
    "Add Name and Number\n",
    "Name:Joe\n",
    "Number:545-4464\n",
    "Type in a number (1-5):2\n",
    "Add Name and Number\n",
    "Name:Jill\n",
    "Number:979-4654\n",
    "Type in a number (1-5):2\n",
    "Add Name and Number\n",
    "Name:Fred\n",
    "Number:132-9874\n",
    "Type in a number (1-5):1\n",
    "Telephone Numbers:\n",
    "Name:  Fred     Number:  132-9874\n",
    "Name:  Jill     Number:  979-4654\n",
    "Name:  Joe      Number:  545-4464\n",
    "\n",
    "Type in a number (1-5):4\n",
    "Lookup Number\n",
    "Name:Joe\n",
    "The number is 545-4464\n",
    "Type in a number (1-5):3\n",
    "Remove Name and Number\n",
    "Name:Fred\n",
    "Type in a number (1-5):1\n",
    "Telephone Numbers:\n",
    "Name:  Jill     Number:  979-4654\n",
    "Name:  Joe      Number:  545-4464\n",
    "\n",
    "Type in a number (1-5):5"
   ]
  },
  {
   "cell_type": "markdown",
   "metadata": {},
   "source": [
    "\n",
    "This program is similar to the name list earlier in the the chapter on lists. Here's how the program works. First, the function `print_menu` is defined. `print_menu` just prints a menu that is later used twice in the program. Next comes the funny looking line `numbers = {}`. All that line does is tell Python that numbers is a dictionary. The next few lines just make the menu work. The lines:\n"
   ]
  },
  {
   "cell_type": "raw",
   "metadata": {},
   "source": [
    "for x in sorted(numbers.keys()):\n",
    "    print(\"Name: \", x, \" \\tNumber: \", numbers[x])"
   ]
  },
  {
   "cell_type": "markdown",
   "metadata": {},
   "source": [
    "\n",
    "go through the dictionary and print all the information. The function `numbers.keys()` returns a list that is then used by the for loop. The list returned by keys is not in any particular order so if you want it in alphabetic order it must be sorted as is done with the sorted function. Similar to lists the statement `numbers[x]` is used to access a specific member of the dictionary. Of course in this case x is a string. Next the line `numbers[name] = phone` adds a name and phone number to the dictionary. If `name` had already been in the dictionary phone would replace whatever was there before. Next the lines:\n"
   ]
  },
  {
   "cell_type": "raw",
   "metadata": {},
   "source": [
    "if name in numbers:\n",
    "    del numbers[name]"
   ]
  },
  {
   "cell_type": "markdown",
   "metadata": {},
   "source": [
    "\n",
    "see if a name is in the dictionary and remove it if it is. The function `name in numbers` returns true if name is in numbers but otherwise returns false. The line del numbers[name] removes the key name and the value associated with that key. The lines:\n"
   ]
  },
  {
   "cell_type": "raw",
   "metadata": {},
   "source": [
    "if name in numbers:\n",
    "    print(\"The number is\", numbers[name])"
   ]
  },
  {
   "cell_type": "markdown",
   "metadata": {},
   "source": [
    "\n",
    "check to see if the dictionary has a certain key and if it does prints out the number associated with it. Lastly, if the menu choice is invalid it reprints the menu for your viewing pleasure.\n",
    "\n",
    "\n",
    "A recap: Dictionaries have keys and values. Keys can be strings or\n",
    "numbers. Keys point to values. Values can be any type of variable\n",
    "(including lists or even dictionaries (those dictionaries or lists of\n",
    "course can contain dictionaries or lists themselves (scary right? :)\n",
    "))). Here is an example of using a list in a dictionary:\n"
   ]
  },
  {
   "cell_type": "code",
   "execution_count": null,
   "metadata": {},
   "outputs": [],
   "source": [
    "max_points = [25, 25, 50, 25, 100]\n",
    "assignments = ['hw ch 1', 'hw ch 2', 'quiz   ', 'hw ch 3', 'test']\n",
    "students = {'#Max':max_points}\n",
    "\n",
    "def print_menu():\n",
    "    print(\"1. Add student\")\n",
    "    print(\"2. Remove student\")\n",
    "    print(\"3. Print grades\")\n",
    "    print(\"4. Record grade\")\n",
    "    print(\"5. Print Menu\")\n",
    "    print(\"6. Exit\")\n",
    "\n",
    "def print_all_grades():\n",
    "    print('\\t', end=' ')\n",
    "    for i in range(len(assignments)):\n",
    "        print(assignments[i], '\\t', end=' ')\n",
    "    print()\n",
    "    keys = list(students.keys())\n",
    "    keys.sort()\n",
    "    for x in keys:\n",
    "        print(x, '\\t', end=' ')\n",
    "        grades = students[x]\n",
    "        print_grades(grades)\n",
    "\n",
    "def print_grades(grades):\n",
    "    for i in range(len(grades)):\n",
    "        print(grades[i], '\\t\\t', end=' ')\n",
    "    print()\n",
    "\n",
    "print_menu()\n",
    "menu_choice = 0\n",
    "while menu_choice != 6:\n",
    "    print()\n",
    "    menu_choice = int(input(\"Menu Choice (1-6):\"))\n",
    "    if menu_choice == 1:\n",
    "        name = input(\"Student to add:\")\n",
    "        students[name] = [0]*len(max_points)\n",
    "    elif menu_choice == 2:\n",
    "        name = input(\"Student to remove:\")\n",
    "        if name in students:\n",
    "            del students[name]\n",
    "        else:\n",
    "            print(\"Student: \", name, \" not found\")\n",
    "    elif menu_choice == 3:\n",
    "        print_all_grades()\n",
    "\n",
    "    elif menu_choice == 4:\n",
    "        print(\"Record Grade\")\n",
    "        name = input(\"Student:\")\n",
    "        if name in students:\n",
    "            grades = students[name]\n",
    "            print(\"Type in the number of the grade to record\")\n",
    "            print(\"Type a 0 (zero) to exit\")\n",
    "            for i in range(len(assignments)):\n",
    "                print(i+1, ' ', assignments[i], '\\t', end=' ')\n",
    "            print()\n",
    "            print_grades(grades)\n",
    "            which = 1234\n",
    "            while which != -1:\n",
    "                which = int(input(\"Change which Grade:\"))\n",
    "                which = which-1\n",
    "                if 0 <= which < len(grades):\n",
    "                    grade = int(input(\"Grade:\"))\n",
    "                    grades[which] = grade\n",
    "                elif which != -1:\n",
    "                    print(\"Invalid Grade Number\")\n",
    "        else:\n",
    "            print(\"Student not found\")\n",
    "    elif menu_choice != 6:\n",
    "        print_menu()"
   ]
  },
  {
   "cell_type": "markdown",
   "metadata": {},
   "source": [
    "and here is a sample output:\n"
   ]
  },
  {
   "cell_type": "raw",
   "metadata": {},
   "source": [
    "1. Add student\n",
    "2. Remove student\n",
    "3. Print grades\n",
    "4. Record grade\n",
    "5. Print Menu\n",
    "6. Exit\n",
    "\n",
    "Menu Choice (1-6):3\n",
    "        hw ch 1         hw ch 2         quiz            hw ch 3         test\n",
    "#Max    25              25              50              25              100"
   ]
  },
  {
   "cell_type": "markdown",
   "metadata": {},
   "source": [
    "\n"
   ]
  },
  {
   "cell_type": "raw",
   "metadata": {},
   "source": [
    "Menu Choice (1-6):5\n",
    "1. Add student\n",
    "2. Remove student\n",
    "3. Print grades\n",
    "4. Record grade\n",
    "5. Print Menu\n",
    "6. Exit\n",
    "\n",
    "Menu Choice (1-6):1\n",
    "Student to add:Bill"
   ]
  },
  {
   "cell_type": "markdown",
   "metadata": {},
   "source": [
    "\n"
   ]
  },
  {
   "cell_type": "raw",
   "metadata": {},
   "source": [
    "Menu Choice (1-6):4\n",
    "Record Grade\n",
    "Student:Bill\n",
    "Type in the number of the grade to record\n",
    "Type a 0 (zero) to exit\n",
    "1   hw ch 1     2   hw ch 2     3   quiz        4   hw ch 3     5   test\n",
    "0               0               0               0               0\n",
    "Change which Grade:1\n",
    "Grade:25\n",
    "Change which Grade:2\n",
    "Grade:24\n",
    "Change which Grade:3\n",
    "Grade:45\n",
    "Change which Grade:4\n",
    "Grade:23\n",
    "Change which Grade:5\n",
    "Grade:95\n",
    "Change which Grade:0"
   ]
  },
  {
   "cell_type": "markdown",
   "metadata": {},
   "source": [
    "\n"
   ]
  },
  {
   "cell_type": "raw",
   "metadata": {},
   "source": [
    "Menu Choice (1-6):3\n",
    "        hw ch 1         hw ch 2         quiz            hw ch 3         test\n",
    "#Max    25              25              50              25              100\n",
    "Bill    25              24              45              23              95\n",
    "\n",
    "Menu Choice (1-6):6"
   ]
  },
  {
   "cell_type": "markdown",
   "metadata": {},
   "source": [
    "\n",
    "Here's how the program works. Basically, the variable students is\n",
    "a dictionary with the keys being the name of the students and the\n",
    "values being their grades. The first two lines just create two lists.\n",
    "The next line `students = {'#Max':max_points}` creates a new\n",
    "dictionary with the key `#Max` and the value is set to be [25, 25, 50, 25, 100] (since thats what `max_points` was when the\n",
    "assignment is made) (I use the key `#Max` since `#` is sorted\n",
    "ahead of any alphabetic characters). Next, `print_menu` is\n",
    "defined. Then, the `print_all_grades` function is defined in the\n",
    "lines:\n"
   ]
  },
  {
   "cell_type": "raw",
   "metadata": {},
   "source": [
    "def print_all_grades():\n",
    "    print('\\t', end=' ')\n",
    "    for i in range(len(assignments)):\n",
    "        print(assignments[i], '\\t', end=' ')\n",
    "    print()\n",
    "    keys = list(students.keys())\n",
    "    keys.sort()\n",
    "    for x in keys:\n",
    "        print(x, '\\t', end=' ')\n",
    "        grades = students[x]\n",
    "        print_grades(grades)"
   ]
  },
  {
   "cell_type": "markdown",
   "metadata": {},
   "source": [
    "\n",
    "Notice how first the keys are gotten out of the students dictionary with the keys function in the line `keys = list(students.keys())` The result of `keys()` is converted into a list so all the functions for lists can be used on it. Next, the keys are sorted in the line `keys.sort()` since it is a list. for is used to go through all the keys. The grades are stored as a list inside the dictionary so the assignment `grades = students[x]` gives grades the list that is stored at the key x. The function `print_grades` just prints a list and is defined a few lines later.\n",
    "\n",
    "\n",
    "The later lines of the program implement the various options of the menu. The line `students[name] = [0]*len(max_points)` adds a student to the key of their name. The notation `[0]*len(max_points)` just creates a array of 0's that is the same length as the `max_points` list.\n",
    "\n",
    "\n",
    "The remove student entry just deletes a student similar to the telephone book example. The record grades choice is a little more complex. The grades are retrieved in the line `grades = students[name]`, which gets a reference to the grades of the student name. A grade is then recorded in the line `grades[which] = grade`. You may notice that grades is never put back into the students dictionary (as in no `students[name] = grades`). The reason for the missing statement is that grades is actually another name for `students[name]` and so changing grades changes `student[name]`.\n",
    "\n",
    "\n",
    "Dictionaries provide a easy way to link keys to values. This can be used to easily keep track of data that is attached to various keys.\n"
   ]
  },
  {
   "cell_type": "code",
   "execution_count": null,
   "metadata": {},
   "outputs": [],
   "source": []
  }
 ],
 "metadata": {
  "kernelspec": {
   "display_name": "Python 3",
   "language": "python",
   "name": "python3"
  },
  "language_info": {
   "codemirror_mode": {
    "name": "ipython",
    "version": 3
   },
   "file_extension": ".py",
   "mimetype": "text/x-python",
   "name": "python",
   "nbconvert_exporter": "python",
   "pygments_lexer": "ipython3",
   "version": "3.8.10"
  }
 },
 "nbformat": 4,
 "nbformat_minor": 4
}
