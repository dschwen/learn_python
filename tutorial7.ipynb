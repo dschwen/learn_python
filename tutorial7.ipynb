{
 "cells": [
  {
   "cell_type": "markdown",
   "metadata": {},
   "source": [
    "\n",
    "Variables with more than one value\n",
    "==================================\n",
    "\n",
    "\n",
    "You have already seen ordinary variables that store a single value. However other variable types can hold more than one value. The simplest type is called a list. Here is a example of a list being used:\n"
   ]
  },
  {
   "cell_type": "code",
   "execution_count": null,
   "metadata": {},
   "outputs": [],
   "source": [
    "which_one = int(input(\"What month (1-12)? \"))\n",
    "months = ['January', 'February', 'March', 'April', 'May', 'June', 'July',\\\n",
    "          'August', 'September', 'October', 'November', 'December']\n",
    "if 1 <= which_one <= 12:\n",
    "    print(\"The month is\", months[which_one - 1])"
   ]
  },
  {
   "cell_type": "markdown",
   "metadata": {},
   "source": [
    "and an output example:"
   ]
  },
  {
   "cell_type": "raw",
   "metadata": {},
   "source": [
    "What month (1-12)? 3\n",
    "The month is March"
   ]
  },
  {
   "cell_type": "markdown",
   "metadata": {},
   "source": [
    "\n",
    "\n",
    "In this example the months is a list. months is defined with the lines months = ['January', 'February', 'March', 'April', 'May', 'June', 'July', 'August', 'September', 'October', 'November', 'December'] (Note that a `\\` can be used to split a long line). The `[` and `]` start and end the list with comma's (`,`) separating the list items. The list is used in `months[which_one - 1]`. A list consists of items that are numbered starting at 0. In other words if you wanted January you would type in 1 and that would have 1 subtracted off to use `months[0]`. Give a list a number and it will return the value that is stored at that location.\n",
    "\n",
    "\n",
    "The statement `if 1 <= which_one <= 12:` will only be true if `which_one` is between one and twelve inclusive (in other words it is what you would expect if you have seen that in algebra). Since 1 is subtracted from `which_one` we get list locations from 0 to 11.\n",
    "\n",
    "\n",
    "Lists can be thought of as a series of boxes. For example, the boxes created by demolist = ['life', 42, 'the', 'universe', 6, 'and', 7] would look like this:\n",
    "\n",
    "\n",
    "\n",
    "\n",
    "|  |  |  |  |  |  |  |  |  \n",
    "| --- | --- | --- | --- | --- | --- | --- | --- |  \n",
    "| box number | 0 | 1 | 2 | 3 | 4 | 5 | 6 |    \n",
    "| demolist | 'life' | 42 | 'the' | 'universe' | 6 | 'and' | 7 |  \n",
    "\n",
    "\n",
    "\n",
    "Each box is referenced by its number so the statement `demolist[0]` would get 'life', `demolist[1]` would get 42 and so on up to `demolist[6]` getting 7.\n",
    "\n",
    "\n",
    "More features of lists\n",
    "======================\n",
    "\n",
    "\n",
    "The next example is just to show a lot of other stuff lists can do (for once, I don't expect you to type it in, but you should probably play around with lists until you are comfortable with them. Also, there will be another program that uses most of these features soon.). Here goes:\n"
   ]
  },
  {
   "cell_type": "code",
   "execution_count": null,
   "metadata": {},
   "outputs": [],
   "source": [
    "demolist = ['life', 42, 'the', 'universe', 6, 'and', 7]\n",
    "print('demolist = ', demolist)\n",
    "demolist.append('everything')\n",
    "print(\"after 'everything' was appended demolist is now:\")\n",
    "print(demolist)\n",
    "print('len(demolist) =', len(demolist))\n",
    "print('demolist.index(42) =', demolist.index(42))\n",
    "print('demolist[1] =', demolist[1])\n",
    "#Next we will loop through the list\n",
    "c = 0\n",
    "while c < len(demolist):\n",
    "    print('demolist[', c, ']=', demolist[c])\n",
    "    c = c + 1\n",
    "del demolist[2]\n",
    "print(\"After 'the universe' was removed demolist is now:\")\n",
    "print(demolist)\n",
    "if 'life' in demolist:\n",
    "    print(\"'life' was found in demolist\")\n",
    "else:\n",
    "    print(\"'life' was not found in demolist\")\n",
    "if 'amoeba' in demolist:\n",
    "    print(\"'amoeba' was found in demolist\")\n",
    "if 'amoeba' not in demolist:\n",
    "    print(\"'amoeba' was not found in demolist\")\n",
    "int_list = []\n",
    "c = 0\n",
    "while c < len(demolist):\n",
    "    if type(0) == type(demolist[c]):\n",
    "        int_list.append(demolist[c])\n",
    "    c = c + 1\n",
    "print('int_list is', int_list)\n",
    "int_list.sort()\n",
    "print('The sorted int_list is ', int_list)"
   ]
  },
  {
   "cell_type": "markdown",
   "metadata": {},
   "source": [
    "\n",
    "\n",
    "The output is:\n"
   ]
  },
  {
   "cell_type": "raw",
   "metadata": {},
   "source": [
    "demolist =  ['life', 42, 'the', 'universe', 6, 'and', 7]\n",
    "after 'everything' was appended demolist is now:\n",
    "['life', 42, 'the', 'universe', 6, 'and', 7, 'everything']\n",
    "len(demolist) = 8\n",
    "demolist.index(42) = 1\n",
    "demolist[1] = 42\n",
    "demolist[ 0 ]= life\n",
    "demolist[ 1 ]= 42\n",
    "demolist[ 2 ]= the\n",
    "demolist[ 3 ]= universe\n",
    "demolist[ 4 ]= 6\n",
    "demolist[ 5 ]= and\n",
    "demolist[ 6 ]= 7\n",
    "demolist[ 7 ]= everything\n",
    "After 'the universe' was removed demolist is now:\n",
    "['life', 42, 'universe', 6, 'and', 7, 'everything']\n",
    "'life' was found in demolist\n",
    "'amoeba' was not found in demolist\n",
    "int_list is [42, 6, 7]\n",
    "The sorted int_list is  [6, 7, 42]"
   ]
  },
  {
   "cell_type": "markdown",
   "metadata": {},
   "source": [
    "\n",
    "\n",
    "This example uses a whole bunch of new functions. Notice that you can\n",
    "just print a whole list. Next the append function is used\n",
    "to add a new item to the end of the list. `len` returns how many\n",
    "items are in a list. The valid indexes (as in numbers that can be\n",
    "used inside of the []) of a list range from 0 to len - 1. The\n",
    "index function tell where the first location of an item is\n",
    "located in a list. Notice how `demolist.index(42)` returns 1 and\n",
    "when `demolist[1]` is run it returns 42. The line\n",
    "`#Next we will loop through the list` is a just a reminder to the\n",
    "programmer (also called a comment). Python will ignore any lines that\n",
    "start with a `#`. Next the lines:\n"
   ]
  },
  {
   "cell_type": "code",
   "execution_count": null,
   "metadata": {},
   "outputs": [],
   "source": [
    "c = 0\n",
    "while c < len(demolist):\n",
    "    print('demolist[', c, ']=', demolist[c])\n",
    "    c = c + 1"
   ]
  },
  {
   "cell_type": "markdown",
   "metadata": {},
   "source": [
    "\n",
    "This creates a variable c which starts at 0 and is incremented until it reaches the last index of the list. Meanwhile the print function prints out each element of the list.\n",
    "\n",
    "\n",
    "The `del` command can be used to remove a given element in a list. The next few lines use the in operator to test if a element is in or is not in a list.\n",
    "\n",
    "\n",
    "The `sort` function sorts the list. This is useful if you need a\n",
    "list in order from smallest number to largest or alphabetical. Note\n",
    "that this rearranges the list. Note also that the numbers were put in\n",
    "a new list, and that was sorted, instead of trying to sort a mixed\n",
    "list. Sorting numbers and strings does not really make sense and results\n",
    "in an error.\n",
    "\n",
    "\n",
    "In summary for a list the following operations exist:\n",
    "\n",
    "\n",
    "\n",
    "\n",
    "|  |  |  |  |\n",
    "| --- | --- | --- | --- |\n",
    "| example | explanation |  |  |\n",
    "| list[2] | accesses the element at index 2 |  |  |\n",
    "| list[2] = 3 | sets the element at index 2 to be 3 |  |  |\n",
    "| del list[2]  | removes the element at index 2 |  |  |\n",
    "| len(list) | returns the length of list |  |  |\n",
    "| \"value\" in list | is true if \"value\" is an element in list |  |  |\n",
    "| \"value\" not in list | is true if \"value\" is not an element in list |  |  |\n",
    "| list.sort() | sorts list |  |  |\n",
    "| list.index(\"value\") | returns the index of the first place that \"value\" occurs |  |  |\n",
    "| list.append(\"value\") | adds an element \"value\" at the end of the list |  |  |\n",
    "\n",
    "\n",
    "\n",
    "This next example uses these features in a more useful way:\n"
   ]
  },
  {
   "cell_type": "code",
   "execution_count": null,
   "metadata": {},
   "outputs": [],
   "source": [
    "menu_item = 0\n",
    "list = []\n",
    "while menu_item != 9:\n",
    "    print(\"--------------------\")\n",
    "    print(\"1. Print the list\")\n",
    "    print(\"2. Add a name to the list\")\n",
    "    print(\"3. Remove a name from the list\")\n",
    "    print(\"4. Change an item in the list\")\n",
    "    print(\"9. Quit\")\n",
    "    menu_item = int(input(\"Pick an item from the menu: \"))\n",
    "    if menu_item == 1:\n",
    "        current = 0\n",
    "        if len(list) > 0:\n",
    "            while current < len(list):\n",
    "                print(current, \". \", list[current])\n",
    "                current = current + 1\n",
    "        else:\n",
    "            print(\"List is empty\")\n",
    "    elif menu_item == 2:\n",
    "        name = input(\"Type in a name to add: \")\n",
    "        list.append(name)\n",
    "    elif menu_item == 3:\n",
    "        del_name = input(\"What name would you like to remove: \")\n",
    "        if del_name in list:\n",
    "            item_number = list.index(del_name)\n",
    "            del list[item_number]\n",
    "            #The code above only removes the first occurance of\n",
    "            # the name.  The code below from Gerald removes all.\n",
    "            #while del_name in list:\n",
    "            #       item_number = list.index(del_name)\n",
    "            #       del list[item_number]\n",
    "        else:\n",
    "            print(del_name, \" was not found\")\n",
    "    elif menu_item == 4:\n",
    "        old_name = input(\"What name would you like to change: \")\n",
    "        if old_name in list:\n",
    "            item_number = list.index(old_name)\n",
    "            new_name = input(\"What is the new name: \")\n",
    "            list[item_number] = new_name\n",
    "        else:\n",
    "            print(old_name, \" was not found\")\n",
    "print(\"Goodbye\")"
   ]
  },
  {
   "cell_type": "markdown",
   "metadata": {},
   "source": [
    "\n",
    "\n",
    "And here is part of the output:\n"
   ]
  },
  {
   "cell_type": "raw",
   "metadata": {},
   "source": [
    "--------------------\n",
    "1. Print the list\n",
    "2. Add a name to the list\n",
    "3. Remove a name from the list\n",
    "4. Change an item in the list\n",
    "9. Quit"
   ]
  },
  {
   "cell_type": "markdown",
   "metadata": {},
   "source": [
    "\n"
   ]
  },
  {
   "cell_type": "raw",
   "metadata": {},
   "source": [
    "Pick an item from the menu: 2\n",
    "Type in a name to add: Jack\n",
    "\n",
    "Pick an item from the menu: 2\n",
    "Type in a name to add: Jill\n",
    "\n",
    "Pick an item from the menu: 1\n",
    "0 .  Jack\n",
    "1 .  Jill\n",
    "\n",
    "Pick an item from the menu: 3\n",
    "What name would you like to remove: Jack\n",
    "\n",
    "Pick an item from the menu: 4\n",
    "What name would you like to change: Jill\n",
    "What is the new name: Jill Peters\n",
    "\n",
    "Pick an item from the menu: 1\n",
    "0 .  Jill Peters\n",
    "\n",
    "Pick an item from the menu: 9\n",
    "Goodbye"
   ]
  },
  {
   "cell_type": "markdown",
   "metadata": {},
   "source": [
    "\n",
    "\n",
    "That was a long program. Let's take a look at the source code. The line `list = []` makes the variable list a list with no items (or elements). The next important line is `while menu_item != 9:` . This line starts a loop that allows the menu system for this program. The next few lines display a menu and decide which part of the program to run.\n",
    "\n",
    "\n",
    "The section:\n"
   ]
  },
  {
   "cell_type": "raw",
   "metadata": {},
   "source": [
    "current = 0\n",
    "if len(list) > 0:\n",
    "    while current < len(list):\n",
    "        print(current, \". \", list[current])\n",
    "        current = current + 1\n",
    "else:\n",
    "    print(\"List is empty\")"
   ]
  },
  {
   "cell_type": "markdown",
   "metadata": {},
   "source": [
    "\n",
    "goes through the list and prints each name. `len(list_name)` tell how many items are in a list. If len returns `0` then the list is empty.\n",
    "\n",
    "\n",
    "Then a few lines later the statement `list.append(name)` appears. It uses the append function to add a item to the end of the list. Jump down another two lines and notice this section of code:\n"
   ]
  },
  {
   "cell_type": "raw",
   "metadata": {},
   "source": [
    "item_number = list.index(del_name)\n",
    "del list[item_number]"
   ]
  },
  {
   "cell_type": "markdown",
   "metadata": {},
   "source": [
    "\n",
    "Here the index function is used to find the index value that will be used later to remove the item. `del list[item_number]` is used to remove a element of the list.\n",
    "\n",
    "\n",
    "The next section\n"
   ]
  },
  {
   "cell_type": "raw",
   "metadata": {},
   "source": [
    "old_name = input(\"What name would you like to change: \")\n",
    "if old_name in list:\n",
    "        item_number = list.index(old_name)\n",
    "        new_name = input(\"What is the new name: \")\n",
    "        list[item_number] = new_name\n",
    "else:\n",
    "        print(old_name, \" was not found\")"
   ]
  },
  {
   "cell_type": "markdown",
   "metadata": {},
   "source": [
    "\n",
    "uses index to find the `item_number` and then puts `new_name` where the `old_name` was.\n",
    "\n",
    "\n",
    "Congratulations, with lists under your belt, you now know enough of the language\n",
    "that you could do any computations that a computer can do (this is technically known as Turing-Completeness). Of course, there are still many features that\n",
    "are used to make your life easier. \n",
    "\n",
    "\n",
    "Examples\n",
    "========\n",
    "\n",
    "\n",
    "\n",
    "test.py\n"
   ]
  },
  {
   "cell_type": "code",
   "execution_count": null,
   "metadata": {},
   "outputs": [],
   "source": [
    "## This program runs a test of knowledge\n",
    "\n",
    "# First get the test questions\n",
    "# Later this will be modified to use file io.\n",
    "def get_questions():\n",
    "    # notice how the data is stored as a list of lists\n",
    "    return [[\"What color is the daytime sky on a clear day?\", \"blue\"],\\\n",
    "            [\"What is the answer to life, the universe and everything?\", \"42\"],\\\n",
    "            [\"What is a three letter word for mouse trap?\", \"cat\"]]\n",
    "\n",
    "# This will test a single question\n",
    "# it takes a single question in\n",
    "# it returns true if the user typed the correct answer, otherwise false\n",
    "def check_question(question_and_answer):\n",
    "    #extract the question and the answer from the list\n",
    "    question = question_and_answer[0]\n",
    "    answer = question_and_answer[1]\n",
    "    # give the question to the user\n",
    "    given_answer = input(question)\n",
    "    # compare the user's answer to the tester's answer\n",
    "    if answer == given_answer:\n",
    "        print(\"Correct\")\n",
    "        return True\n",
    "    else:\n",
    "        print(\"Incorrect, correct was:\", answer)\n",
    "        return False\n",
    "\n",
    "# This will run through all the questions\n",
    "def run_test(questions):\n",
    "    if len(questions) == 0:\n",
    "        print(\"No questions were given.\")\n",
    "        # the return exits the function\n",
    "        return\n",
    "    index = 0\n",
    "    right = 0\n",
    "    while index < len(questions):\n",
    "        #Check the question\n",
    "        if check_question(questions[index]):\n",
    "            right = right + 1\n",
    "        #go to the next question\n",
    "        index = index + 1\n",
    "    #notice the order of the computation, first multiply, then divide\n",
    "    print(\"You got \", right*100//len(questions), \"% right out of\", len(questions))\n",
    "\n",
    "#now lets run the questions\n",
    "run_test(get_questions())"
   ]
  },
  {
   "cell_type": "markdown",
   "metadata": {},
   "source": [
    "\n",
    "\n",
    "Sample Output:\n"
   ]
  },
  {
   "cell_type": "raw",
   "metadata": {},
   "source": [
    "What color is the daytime sky on a clear day?green\n",
    "Incorrect, correct was: blue\n",
    "What is the answer to life, the universe and everything?42\n",
    "Correct\n",
    "What is a three letter word for mouse trap?cat\n",
    "Correct\n",
    "You got  66 % right out of 3"
   ]
  },
  {
   "cell_type": "markdown",
   "metadata": {},
   "source": [
    "\n",
    "\n",
    "Exercises\n",
    "=========\n",
    "\n",
    "\n",
    "\n",
    "Expand the test.py program so it has menu giving the option of taking\n",
    "the test, viewing the list of questions and answers, and an option to\n",
    "Quit. Also, add a new question to ask, “What noise does a truly\n",
    "advanced machine make?” with the answer of “ping”.\n"
   ]
  }
 ],
 "metadata": {
  "kernelspec": {
   "display_name": "Python 3",
   "language": "python",
   "name": "python3"
  },
  "language_info": {
   "codemirror_mode": {
    "name": "ipython",
    "version": 3
   },
   "file_extension": ".py",
   "mimetype": "text/x-python",
   "name": "python",
   "nbconvert_exporter": "python",
   "pygments_lexer": "ipython3",
   "version": "3.8.10"
  }
 },
 "nbformat": 4,
 "nbformat_minor": 4
}
