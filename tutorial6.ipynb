{
 "cells": [
  {
   "cell_type": "markdown",
   "metadata": {},
   "source": [
    "\n",
    "Creating Functions\n",
    "==================\n",
    "\n",
    "\n",
    "To start off this chapter I am going to give you a example of what you could do but shouldn't (so don't type it in):\n"
   ]
  },
  {
   "cell_type": "code",
   "execution_count": null,
   "metadata": {},
   "outputs": [],
   "source": [
    "a = 23\n",
    "b = -23\n",
    "\n",
    "if a < 0:\n",
    "    a = -a\n",
    "\n",
    "if b < 0:\n",
    "    b = -b\n",
    "\n",
    "if a == b:\n",
    "    print(\"The absolute values of\", a, \"and\", b, \"are equal\")\n",
    "else:\n",
    "    print(\"The absolute values of a and b are different\")"
   ]
  },
  {
   "cell_type": "markdown",
   "metadata": {},
   "source": [
    "with the output being:\n"
   ]
  },
  {
   "cell_type": "raw",
   "metadata": {},
   "source": [
    "The absolute values of 23 and 23 are equal"
   ]
  },
  {
   "cell_type": "markdown",
   "metadata": {},
   "source": [
    "The program seems a little repetitive. (Programmers hate to repeat things (That's what computers are for aren't they?)) Fortunately Python allows you to create functions to remove duplication. Here's the rewritten example:\n"
   ]
  },
  {
   "cell_type": "code",
   "execution_count": null,
   "metadata": {},
   "outputs": [],
   "source": [
    "a = 23\n",
    "b = -23\n",
    "\n",
    "def my_abs(num):\n",
    "    if num < 0:\n",
    "        num = -num\n",
    "    return num\n",
    "\n",
    "if my_abs(a) == my_abs(b):\n",
    "    print(\"The absolute values of\", a, \"and\", b, \"are equal\")\n",
    "else:\n",
    "    print(\"The absolute values of a and b are different\")"
   ]
  },
  {
   "cell_type": "markdown",
   "metadata": {},
   "source": [
    "with the output being:\n"
   ]
  },
  {
   "cell_type": "raw",
   "metadata": {},
   "source": [
    "The absolute values of 23 and -23 are equal"
   ]
  },
  {
   "cell_type": "markdown",
   "metadata": {},
   "source": [
    "The key feature of this program is the def statement. def\n",
    "(short for define) starts a function definition. def is\n",
    "followed by the name of the function my\\_abs. Next comes a (\n",
    "followed by the parameter num (num is passed from the\n",
    "program into the function when the function is called). The statements\n",
    "after the : are executed when the function is used. The\n",
    "statements continue until either the indented statements end or a\n",
    "return is encountered. The return statement returns a value\n",
    "back to the place where the function was called.\n",
    "\n",
    "\n",
    "Notice how the values of a and b are not changed.\n",
    "Functions of course can be used to repeat tasks that don't return\n",
    "values. Here's some examples:\n"
   ]
  },
  {
   "cell_type": "code",
   "execution_count": null,
   "metadata": {},
   "outputs": [],
   "source": [
    "def hello():\n",
    "    print(\"Hello\")\n",
    "\n",
    "def area(width, height):\n",
    "    return width*height\n",
    "\n",
    "def print_welcome(name):\n",
    "    print(\"Welcome\", name)\n",
    "\n",
    "hello()\n",
    "hello()\n",
    "\n",
    "print_welcome(\"Fred\")\n",
    "w = 4\n",
    "h = 5\n",
    "print(\"width =\", w, \"height =\", h, \"area =\", area(w, h))"
   ]
  },
  {
   "cell_type": "markdown",
   "metadata": {},
   "source": [
    "with output being:\n"
   ]
  },
  {
   "cell_type": "raw",
   "metadata": {},
   "source": [
    "Hello\n",
    "Hello\n",
    "Welcome Fred\n",
    "width = 4 height = 5 area = 20"
   ]
  },
  {
   "cell_type": "markdown",
   "metadata": {},
   "source": [
    "That example just shows some more stuff that you can do with\n",
    "functions. Notice that you can use no arguments or two or more.\n",
    "Notice also when a function doesn't need to send back a value, a\n",
    "return is optional.\n",
    "\n",
    "\n",
    "Variables in functions\n",
    "======================\n",
    "\n",
    "\n",
    "\n",
    "Of course, when eliminiating repeated code, you often have variables in\n",
    "the repeated code. These are dealt with in a special way in Python. Up\n",
    "till now, all variables we have see are global variables. Functions have\n",
    "a special type of variable called local variables. These variables only\n",
    "exist while the function is running. When a local variable has the\n",
    "same name as another variable such as a global variable, the local variable\n",
    "hides the other variable. Sound confusing? Well, hopefully this next\n",
    "example (which is a bit contrived) will clear things up.\n"
   ]
  },
  {
   "cell_type": "code",
   "execution_count": null,
   "metadata": {},
   "outputs": [],
   "source": [
    "a_var = 10\n",
    "b_var = 15\n",
    "e_var = 25\n",
    "\n",
    "def a_func(a_var):\n",
    "    print(\"in a_func a_var = \", a_var)\n",
    "    b_var = 100 + a_var\n",
    "    d_var = 2*a_var\n",
    "    print(\"in a_func b_var = \", b_var)\n",
    "    print(\"in a_func d_var = \", d_var)\n",
    "    print(\"in a_func e_var = \", e_var)\n",
    "    return b_var + 10\n",
    "\n",
    "c_var = a_func(b_var)\n",
    "\n",
    "print(\"a_var = \", a_var)\n",
    "print(\"b_var = \", b_var)\n",
    "print(\"c_var = \", c_var)\n",
    "print(\"d_var = \", d_var)"
   ]
  },
  {
   "cell_type": "markdown",
   "metadata": {},
   "source": [
    "\n",
    "\n",
    "The output is:\n"
   ]
  },
  {
   "cell_type": "raw",
   "metadata": {},
   "source": [
    "in a_func a_var =  15\n",
    "in a_func b_var =  115\n",
    "in a_func d_var =  30\n",
    "in a_func e_var =  25\n",
    "a_var =  10\n",
    "b_var =  15\n",
    "c_var =  125\n",
    "Traceback (most recent call last):\n",
    "  File \"varfunc.py\", line 19, in <module>\n",
    "    print(\"d_var = \", d_var)\n",
    "NameError: name 'd_var' is not defined"
   ]
  },
  {
   "cell_type": "markdown",
   "metadata": {},
   "source": [
    "\n",
    "\n",
    "In this example the variables a\\_var, b\\_var, and d\\_var\n",
    "are all local variables when they are inside the function a\\_func.\n",
    "After the statement return b\\_var + 10 is run, they all cease to\n",
    "exist. The variable a\\_var is automatically a local variable since it\n",
    "is a parameter name. The variables b\\_var and d\\_var are local\n",
    "variables since they appear on the left of an equals sign in the function in\n",
    "the statements `b_var = 100 + a_var` and `d_var = 2*a_var` .\n",
    "\n",
    "\n",
    "Inside of the function a\\_var is 15 since the function is called\n",
    "with a\\_func(b\\_var). Since at that point in time b\\_var is\n",
    "15, the call to the function is a\\_func(15) This ends up setting\n",
    "a\\_var to 15 when it is inside of a\\_func.\n",
    "\n",
    "\n",
    "As you can see, once the function finishes running, the local variables\n",
    "a\\_var and b\\_var that had hidden the global variables of the same\n",
    "name are gone. Then the statement `print(\"a_var = \", a_var)` prints the\n",
    "value 10 rather than the value 15 since the local variable\n",
    "that hid the global variable is gone.\n",
    "\n",
    "\n",
    "Another thing to notice is the NameError that happens at the end.\n",
    "This appears since the variable d\\_var no longer exists since\n",
    "a\\_func finished. All the local variables are deleted when the function\n",
    "exits. If you want to get something from a function, then you will have\n",
    "to use return something.\n",
    "\n",
    "\n",
    "One last thing to notice is that the value of e\\_var remains unchanged\n",
    "inside a\\_func since it is not a parameter and it never appears on the\n",
    "left of an equals sign inside of the function a\\_func. When a\n",
    "global variable is accessed inside a function it is the global variable\n",
    "from the outside.\n",
    "\n",
    "\n",
    "Functions allow local variables that exist only inside the function and\n",
    "can hide other variables that are outside the function.\n",
    "\n",
    "\n",
    "Function walkthrough\n",
    "====================\n",
    "\n",
    "\n",
    "\n",
    "Now we will do a walk through for the following program:\n"
   ]
  },
  {
   "cell_type": "code",
   "execution_count": null,
   "metadata": {},
   "outputs": [],
   "source": [
    "def mult(a, b):\n",
    "    if b == 0:\n",
    "        return 0\n",
    "    rest = mult(a, b - 1)\n",
    "    value = a + rest\n",
    "    return value\n",
    "\n",
    "print(\"3*2 = \", mult(3, 2))"
   ]
  },
  {
   "cell_type": "markdown",
   "metadata": {},
   "source": [
    "\n",
    "\n",
    "Basically, this program creates a positive integer multiplication\n",
    "function (that is far slower than the built in multiplication\n",
    "function) and then demonstrates this function with a use of the\n",
    "function. Some people find this section helpful, others find it\n",
    "confusing. If it gets confusing, you can skip it.\n",
    "\n",
    "\n",
    "**Question:** What is the first thing the program does?\n",
    "\n",
    "\n",
    "**Answer:** The first thing done is the function mult is defined with the lines:\n"
   ]
  },
  {
   "cell_type": "code",
   "execution_count": null,
   "metadata": {},
   "outputs": [],
   "source": [
    "def mult(a, b):\n",
    "    if b == 0:\n",
    "        return 0\n",
    "    rest = mult(a, b - 1)\n",
    "    value = a + rest\n",
    "    return value"
   ]
  },
  {
   "cell_type": "markdown",
   "metadata": {},
   "source": [
    "\n",
    "This creates a function that takes two parameters and returns a value when\n",
    "it is done. Later this function can be run.\n",
    "\n",
    "\n",
    "**Question:** What happens next?\n",
    "\n",
    "\n",
    "**Answer:** The next line after the function,\n",
    "`print(\"3*2 = \", mult(3, 2))` is run.\n",
    "\n",
    "\n",
    "**Question:** And what does this do?\n",
    "\n",
    "\n",
    "**Answer:** It prints `3*2 =`  and the return value of `mult(3, 2)`\n",
    "\n",
    "**Question:** And what does `mult(3, 2)` return?\n",
    "\n",
    "\n",
    "**Answer:** We need to do a walkthrough of the mult function to find out.\n",
    "\n",
    "\n",
    "**Question:** What happens next?\n",
    "\n",
    "\n",
    "**Answer:** The variable a gets the value 3 assigned to it and the\n",
    "variable b gets the value 2 assigned to it.\n",
    "\n",
    "\n",
    "**Question:** And then?\n",
    "\n",
    "\n",
    "**Answer:** The line `if b == 0:` is run. Since b has the value 2\n",
    "this is false so the line `return 0` is skipped.\n",
    "\n",
    "\n",
    "**Question:** And what then?\n",
    "\n",
    "\n",
    "**Answer:** The line `rest = mult(a, b - 1)` is run. This line sets the\n",
    "local variable rest to the value of `mult(a, b - 1)`. The\n",
    "value of a is 3 and the value of b is 2 so the function call\n",
    "is `mult(3, 1)`\n",
    "\n",
    "**Question:** So what is the value of `mult(3, 1)` ?\n",
    "\n",
    "\n",
    "**Answer:** We will need to run the function mult with the parameters\n",
    "3 and 1.\n",
    "\n",
    "\n",
    "**Question:** So what happens next?\n",
    "\n",
    "\n",
    "**Answer:** The local variables in the *new* run of the function are\n",
    "set so that a has the value 3 and b has the value 1.\n",
    "Since these are local values these do not affect the previous values\n",
    "of a and b.\n",
    "\n",
    "\n",
    "**Question:** And then?\n",
    "\n",
    "\n",
    "**Answer:** Since b has the value 1 the if statement is false, so the\n",
    "next line becomes `rest = mult(a, b - 1)`.\n",
    "\n",
    "\n",
    "**Question:** What does this line do?\n",
    "\n",
    "\n",
    "**Answer:** This line will assign the value of mult(3, 0) to rest.\n",
    "\n",
    "\n",
    "**Question:** So what is that value?\n",
    "\n",
    "\n",
    "**Answer:** We will have to run the function one more time to find that out.\n",
    "This time a has the value 3 and b has the value 0.\n",
    "\n",
    "\n",
    "**Question:** So what happens next?\n",
    "\n",
    "\n",
    "**Answer:** The first line in the function to run is `if b == 0:` . b has the value 0 so the next line to run is `return 0`\n",
    "\n",
    "**Question:** And what does the line `return 0` do?\n",
    "\n",
    "\n",
    "**Answer:** This line returns the value 0 out of the function.\n",
    "\n",
    "\n",
    "**Question:** So?\n",
    "\n",
    "\n",
    "**Answer:** So now we know that mult(3, 0) has the value 0. Now we\n",
    "know what the line `rest = mult(a, b - 1)` did since we have run\n",
    "the function mult with the parameters 3 and 0. We have finished\n",
    "running mult(3, 0) and are now back to running mult(3, 1).\n",
    "The variable rest gets assigned the value 0.\n",
    "\n",
    "\n",
    "**Question:** What line is run next?\n",
    "\n",
    "\n",
    "**Answer:** The line `value = a + rest` is run next. In this run of the\n",
    "function, `a=3` and `rest=0` so now `value=3`.\n",
    "\n",
    "\n",
    "**Question:** What happens next?\n",
    "\n",
    "\n",
    "**Answer:** The line `return value` is run. This returns 3 from the function.\n",
    "This also exits from the run of the function mult(3, 1). After return is called, we go back to running mult(3, 2).\n",
    "\n",
    "\n",
    "**Question:** Where were we in mult(3, 2)?\n",
    "\n",
    "\n",
    "**Answer:** We had the variables `a=3` and `b=2` and were examining\n",
    "the line `rest = mult(a, b - 1)` .\n",
    "\n",
    "\n",
    "**Question:** So what happens now?\n",
    "\n",
    "\n",
    "**Answer:** The variable rest get 3 assigned to it. The next line\n",
    "`value = a + rest` sets value to 3+3 or 6.\n",
    "\n",
    "\n",
    "**Question:** So now what happens?\n",
    "\n",
    "\n",
    "**Answer:** The next line runs, this returns 6 from the function. We are now\n",
    "back to running the line `print(\"3*2 = \", mult(3, 2))` which can now\n",
    "print out the 6.\n",
    "\n",
    "\n",
    "**Question:** What is happening overall?\n",
    "\n",
    "\n",
    "**Answer:** Basically, we used two facts to calulate the multipule of the\n",
    "two numbers. The first is that any number times 0 is 0 (x * 0 =\n",
    "0). The second is that a number times another number is equal to the\n",
    "first number plus the first number times one less than the second\n",
    "number (x * y = x + x * (y - 1)). So what happens is 3*2 is\n",
    "first converted into 3 + 3*1. Then 3*1 is converted into\n",
    "3 + 3*0. Then we know that any number times 0 is 0 so 3*0\n",
    "is 0. Then we can calculate that 3 + 3*0 is 3 + 0 which\n",
    "is 3. Now we know what 3*1 is so we can calculate that\n",
    "3 + 3*1 is 3 + 3 which is 6.\n",
    "\n",
    "\n",
    "This is how the whole thing works:\n"
   ]
  },
  {
   "cell_type": "raw",
   "metadata": {},
   "source": [
    "3*2\n",
    "3 + 3*1\n",
    "3 + 3 + 3*0\n",
    "3 + 3 + 0\n",
    "3 + 3\n",
    "6"
   ]
  },
  {
   "cell_type": "markdown",
   "metadata": {},
   "source": [
    "\n",
    "\n",
    "Congratulations, you stepped through a complicated function.\n",
    "\n",
    "\n",
    "Examples\n",
    "========\n",
    "\n",
    "\n",
    "\n",
    "factorial.py\n"
   ]
  },
  {
   "cell_type": "code",
   "execution_count": null,
   "metadata": {},
   "outputs": [],
   "source": [
    "#defines a function that calculates the factorial\n",
    "\n",
    "def factorial(n):\n",
    "    if n <= 1:\n",
    "        return 1\n",
    "    return n*factorial(n-1)\n",
    "\n",
    "print(\"2! = \", factorial(2))\n",
    "print(\"3! = \", factorial(3))\n",
    "print(\"4! = \", factorial(4))\n",
    "print(\"5! = \", factorial(5))\n",
    "print(\"52! = \", factorial(52))"
   ]
  },
  {
   "cell_type": "markdown",
   "metadata": {},
   "source": [
    "\n",
    "\n",
    "Output:\n"
   ]
  },
  {
   "cell_type": "raw",
   "metadata": {},
   "source": [
    "2! =  2\n",
    "3! =  6\n",
    "4! =  24\n",
    "5! =  120\n",
    "52! =  80658175170943878571660636856403766975289505440883277824000000000000"
   ]
  },
  {
   "cell_type": "markdown",
   "metadata": {},
   "source": [
    "\n",
    "\n",
    "temperature2.py\n"
   ]
  },
  {
   "cell_type": "code",
   "execution_count": null,
   "metadata": {},
   "outputs": [],
   "source": [
    "#converts temperature to fahrenheit or celsius\n",
    "\n",
    "def print_options():\n",
    "    print(\"Options:\")\n",
    "    print(\" 'p' print options\")\n",
    "    print(\" 'c' convert from celsius\")\n",
    "    print(\" 'f' convert from fahrenheit\")\n",
    "    print(\" 'q' quit the program\")\n",
    "\n",
    "def celsius_to_fahrenheit(c_temp):\n",
    "    return 9.0/5.0*c_temp+32\n",
    "\n",
    "def fahrenheit_to_celsius(f_temp):\n",
    "    return (f_temp - 32.0)*5.0/9.0\n",
    "\n",
    "choice = \"p\"\n",
    "while choice != \"q\":\n",
    "    if choice == \"c\":\n",
    "        temp = float(input(\"Celsius temperature:\"))\n",
    "        print(\"Fahrenheit:\", celsius_to_fahrenheit(temp))\n",
    "    elif choice == \"f\":\n",
    "        temp = float(input(\"Fahrenheit temperature:\"))\n",
    "        print(\"Celsius:\", fahrenheit_to_celsius(temp))\n",
    "    elif choice != \"q\":\n",
    "        print_options()\n",
    "    choice = input(\"option:\")"
   ]
  },
  {
   "cell_type": "markdown",
   "metadata": {},
   "source": [
    "\n",
    "\n",
    "Sample Run:\n"
   ]
  },
  {
   "cell_type": "raw",
   "metadata": {},
   "source": [
    "> python3 temperature2.py\n",
    "Options:\n",
    " 'p' print options\n",
    " 'c' convert from celsius\n",
    " 'f' convert from fahrenheit\n",
    " 'q' quit the program\n",
    "option:c\n",
    "Celsius temperature:30\n",
    "Fahrenheit: 86.0\n",
    "option:f\n",
    "Fahrenheit temperature:60\n",
    "Celsius: 15.5555555556\n",
    "option:q"
   ]
  },
  {
   "cell_type": "markdown",
   "metadata": {},
   "source": [
    "\n",
    "\n",
    "area2.py\n"
   ]
  },
  {
   "cell_type": "code",
   "execution_count": null,
   "metadata": {},
   "outputs": [],
   "source": [
    "#By Amos Satterlee\n",
    "print()\n",
    "def hello():\n",
    "    print('Hello!')\n",
    "\n",
    "def area(width, height):\n",
    "    return width*height\n",
    "\n",
    "def print_welcome(name):\n",
    "    print('Welcome,', name)\n",
    "\n",
    "def get_positive(prompt):\n",
    "    value = float(input(prompt))\n",
    "    while value <= 0:\n",
    "        print('Must be a positive number')\n",
    "        value = float(input(prompt))\n",
    "    return value\n",
    "\n",
    "name = input('Your Name: ')\n",
    "hello()\n",
    "print_welcome(name)\n",
    "print()\n",
    "print('To find the area of a rectangle,')\n",
    "print('Enter the width and height below.')\n",
    "print()\n",
    "w = get_positive('Width:  ')\n",
    "h = get_positive('Height: ')\n",
    "print('Width =', w, ' Height =', h, ' so Area =', area(w, h))"
   ]
  },
  {
   "cell_type": "markdown",
   "metadata": {},
   "source": [
    "\n",
    "\n",
    "Sample Run:\n"
   ]
  },
  {
   "cell_type": "raw",
   "metadata": {},
   "source": [
    "Your Name: Josh\n",
    "Hello!\n",
    "Welcome, Josh\n",
    "\n",
    "To find the area of a rectangle,\n",
    "Enter the width and height below.\n",
    "\n",
    "Width:  -4\n",
    "Must be a positive number\n",
    "Width:  4\n",
    "Height: 3\n",
    "Width = 4.0  Height = 3.0  so Area = 12.0"
   ]
  },
  {
   "cell_type": "markdown",
   "metadata": {},
   "source": [
    "Exercises\n",
    "=========\n",
    "\n",
    "Rewrite the area.py program from the second notebook (copied below) to have a separate\n",
    "function for the area of a square, the area of a rectangle, and the\n",
    "area of a circle. (The area of a circle is roughly 3.14 *\n",
    "radius**2). This program should include a menu interface."
   ]
  },
  {
   "cell_type": "code",
   "execution_count": null,
   "metadata": {},
   "outputs": [],
   "source": [
    "#This program calculates the perimeter and area of a rectangle\n",
    "print(\"Calculate information about a rectangle\")\n",
    "length = float(input(\"Length:\"))\n",
    "width = float(input(\"Width:\"))\n",
    "print(\"Area\", length*width)\n",
    "print(\"Perimeter\", 2*length+2*width)"
   ]
  }
 ],
 "metadata": {
  "kernelspec": {
   "display_name": "Python 3",
   "language": "python",
   "name": "python3"
  },
  "language_info": {
   "codemirror_mode": {
    "name": "ipython",
    "version": 3
   },
   "file_extension": ".py",
   "mimetype": "text/x-python",
   "name": "python",
   "nbconvert_exporter": "python",
   "pygments_lexer": "ipython3",
   "version": "3.8.10"
  }
 },
 "nbformat": 4,
 "nbformat_minor": 4
}
