{
 "cells": [
  {
   "cell_type": "markdown",
   "metadata": {},
   "source": [
    "\n",
    "\n",
    "And now presenting a cool trick that can be done with strings:\n"
   ]
  },
  {
   "cell_type": "code",
   "execution_count": null,
   "metadata": {},
   "outputs": [],
   "source": [
    "def shout(string):\n",
    "    for character in string:\n",
    "        print(\"Gimme a \"+character)\n",
    "        print(\"'\"+character+\"'\")\n",
    "\n",
    "shout(\"Lose\")\n",
    "\n",
    "def middle(string):\n",
    "    print(\"The middle character is:\", string[len(string)//2])\n",
    "\n",
    "middle(\"abcdefg\")\n",
    "middle(\"The Python Programming Language\")\n",
    "middle(\"Atlanta\")"
   ]
  },
  {
   "cell_type": "markdown",
   "metadata": {},
   "source": [
    "\n",
    "\n",
    "And the output is:\n"
   ]
  },
  {
   "cell_type": "raw",
   "metadata": {},
   "source": [
    "Gimme a L\n",
    "'L'\n",
    "Gimme a o\n",
    "'o'\n",
    "Gimme a s\n",
    "'s'\n",
    "Gimme a e\n",
    "'e'\n",
    "The middle character is: d\n",
    "The middle character is: r\n",
    "The middle character is: a"
   ]
  },
  {
   "cell_type": "markdown",
   "metadata": {},
   "source": [
    "What these programs demonstrate is that strings are similar to lists in several ways. The shout procedure shows that for loops can be used with strings just as they can be used with lists. The middle procedure shows that that strings can also use the len function and array indexes and slices. Most list features work on strings as well.\n",
    "\n",
    "\n",
    "The next program demonstrates some string specific features:\n"
   ]
  },
  {
   "cell_type": "code",
   "execution_count": null,
   "metadata": {},
   "outputs": [],
   "source": [
    "def to_upper(string):\n",
    "    ## Converts a string to upper case\n",
    "    upper_case = \"\"\n",
    "    for character in string:\n",
    "        if 'a' <= character <= 'z':\n",
    "            location = ord(character) - ord('a')\n",
    "            new_ascii = location + ord('A')\n",
    "            character = chr(new_ascii)\n",
    "        upper_case = upper_case + character\n",
    "    return upper_case\n",
    "\n",
    "print(to_upper(\"This is Text\"))"
   ]
  },
  {
   "cell_type": "markdown",
   "metadata": {},
   "source": [
    "with the output being:\n"
   ]
  },
  {
   "cell_type": "raw",
   "metadata": {},
   "source": [
    "THIS IS TEXT"
   ]
  },
  {
   "cell_type": "markdown",
   "metadata": {},
   "source": [
    "This works because the computer represents the characters of a string as numbers from 0 to 255 (or more if they are Unicode). Python has a function called ord (short for ordinal) that returns a character as a number. There is also a corresponding function called chr that converts a number into a character. With this in mind, the program should start to be clear. The first detail is the line: `if 'a' <= character <= 'z':` which checks to see if a letter is lower case. If it is, then the next lines are used. First it is converted into a location so that a=0, b=1, c=2 and so on with the line: `location = ord(character) - ord('a')`. Next the new value is found with `new_ascii = location + ord('A')`. This value is converted back to a character that is now upper case. And for what it is worth, Python does have a built-in string functions upper and lower for making upper and lower case strings.\n",
    "\n",
    "\n",
    "Now for some interactive typing exercise:\n"
   ]
  },
  {
   "cell_type": "code",
   "execution_count": null,
   "metadata": {},
   "outputs": [],
   "source": [
    "#Integer to String\n",
    "2"
   ]
  },
  {
   "cell_type": "raw",
   "metadata": {},
   "source": [
    "2"
   ]
  },
  {
   "cell_type": "code",
   "execution_count": null,
   "metadata": {},
   "outputs": [],
   "source": [
    "str(2)"
   ]
  },
  {
   "cell_type": "raw",
   "metadata": {},
   "source": [
    "'2'"
   ]
  },
  {
   "cell_type": "code",
   "execution_count": null,
   "metadata": {},
   "outputs": [],
   "source": [
    "-123"
   ]
  },
  {
   "cell_type": "raw",
   "metadata": {},
   "source": [
    "-123"
   ]
  },
  {
   "cell_type": "code",
   "execution_count": null,
   "metadata": {},
   "outputs": [],
   "source": [
    "str(-123)"
   ]
  },
  {
   "cell_type": "raw",
   "metadata": {},
   "source": [
    "'-123'"
   ]
  },
  {
   "cell_type": "markdown",
   "metadata": {},
   "source": [
    "\n"
   ]
  },
  {
   "cell_type": "code",
   "execution_count": null,
   "metadata": {},
   "outputs": [],
   "source": [
    "#String to Integer\n",
    "\"23\""
   ]
  },
  {
   "cell_type": "raw",
   "metadata": {},
   "source": [
    "'23'"
   ]
  },
  {
   "cell_type": "code",
   "execution_count": null,
   "metadata": {},
   "outputs": [],
   "source": [
    "int(\"23\")"
   ]
  },
  {
   "cell_type": "raw",
   "metadata": {},
   "source": [
    "23"
   ]
  },
  {
   "cell_type": "code",
   "execution_count": null,
   "metadata": {},
   "outputs": [],
   "source": [
    "\"23\"*2"
   ]
  },
  {
   "cell_type": "raw",
   "metadata": {},
   "source": [
    "'2323'\n"
   ]
  },
  {
   "cell_type": "code",
   "execution_count": null,
   "metadata": {},
   "outputs": [],
   "source": [
    "int(\"23\")*2"
   ]
  },
  {
   "cell_type": "raw",
   "metadata": {},
   "source": [
    "46"
   ]
  },
  {
   "cell_type": "code",
   "execution_count": null,
   "metadata": {},
   "outputs": [],
   "source": [
    "int(23.4)"
   ]
  },
  {
   "cell_type": "raw",
   "metadata": {},
   "source": [
    "23"
   ]
  },
  {
   "cell_type": "markdown",
   "metadata": {},
   "source": [
    "\n"
   ]
  },
  {
   "cell_type": "code",
   "execution_count": null,
   "metadata": {},
   "outputs": [],
   "source": [
    "#Float to String\n",
    "1.23"
   ]
  },
  {
   "cell_type": "raw",
   "metadata": {},
   "source": [
    "1.23"
   ]
  },
  {
   "cell_type": "code",
   "execution_count": null,
   "metadata": {},
   "outputs": [],
   "source": [
    "str(1.23)"
   ]
  },
  {
   "cell_type": "raw",
   "metadata": {},
   "source": [
    "'1.23'"
   ]
  },
  {
   "cell_type": "markdown",
   "metadata": {},
   "source": [
    "\n"
   ]
  },
  {
   "cell_type": "code",
   "execution_count": null,
   "metadata": {},
   "outputs": [],
   "source": [
    "#Float to Integer\n",
    "1.23"
   ]
  },
  {
   "cell_type": "raw",
   "metadata": {},
   "source": [
    "1.23"
   ]
  },
  {
   "cell_type": "code",
   "execution_count": null,
   "metadata": {},
   "outputs": [],
   "source": [
    "int(1.23)"
   ]
  },
  {
   "cell_type": "raw",
   "metadata": {},
   "source": [
    "1"
   ]
  },
  {
   "cell_type": "code",
   "execution_count": null,
   "metadata": {},
   "outputs": [],
   "source": [
    "int(-1.23)"
   ]
  },
  {
   "cell_type": "raw",
   "metadata": {},
   "source": [
    "-1"
   ]
  },
  {
   "cell_type": "markdown",
   "metadata": {},
   "source": [
    "\n"
   ]
  },
  {
   "cell_type": "code",
   "execution_count": null,
   "metadata": {},
   "outputs": [],
   "source": [
    "#String to Float\n",
    "float(\"1.23\")"
   ]
  },
  {
   "cell_type": "raw",
   "metadata": {},
   "source": [
    "1.23"
   ]
  },
  {
   "cell_type": "code",
   "execution_count": null,
   "metadata": {},
   "outputs": [],
   "source": [
    "\"1.23\""
   ]
  },
  {
   "cell_type": "raw",
   "metadata": {},
   "source": [
    "'1.23'\n"
   ]
  },
  {
   "cell_type": "code",
   "execution_count": null,
   "metadata": {},
   "outputs": [],
   "source": [
    "float(\"123\")"
   ]
  },
  {
   "cell_type": "raw",
   "metadata": {},
   "source": [
    "123.0"
   ]
  },
  {
   "cell_type": "markdown",
   "metadata": {},
   "source": [
    "\n",
    "\n",
    "If you haven't guessed already, the function `str` can convert a integer to a string and the function `int` can convert a string (or a float) to an integer. The function float can convert a string (or an integer) to a float. The `str` function returns a printable representation of something. Here are some examples of this:\n"
   ]
  },
  {
   "cell_type": "code",
   "execution_count": null,
   "metadata": {},
   "outputs": [],
   "source": [
    "str(1)"
   ]
  },
  {
   "cell_type": "raw",
   "metadata": {},
   "source": [
    "'1'"
   ]
  },
  {
   "cell_type": "code",
   "execution_count": null,
   "metadata": {},
   "outputs": [],
   "source": [
    "str(234.14)"
   ]
  },
  {
   "cell_type": "raw",
   "metadata": {},
   "source": [
    "'234.14'"
   ]
  },
  {
   "cell_type": "code",
   "execution_count": null,
   "metadata": {},
   "outputs": [],
   "source": [
    "str([4, 42, 10])"
   ]
  },
  {
   "cell_type": "raw",
   "metadata": {},
   "source": [
    "'[4, 42, 10]'"
   ]
  },
  {
   "cell_type": "markdown",
   "metadata": {},
   "source": [
    "\n",
    "\n",
    "One useful string function is the `split` function that is part of any string. Here's the example:\n"
   ]
  },
  {
   "cell_type": "code",
   "execution_count": null,
   "metadata": {},
   "outputs": [],
   "source": [
    "\"This is a bunch of words\".split()"
   ]
  },
  {
   "cell_type": "raw",
   "metadata": {},
   "source": [
    "['This', 'is', 'a', 'bunch', 'of', 'words']"
   ]
  },
  {
   "cell_type": "code",
   "execution_count": null,
   "metadata": {},
   "outputs": [],
   "source": [
    "\"First batch, second batch, third, fourth\".split(\",\")"
   ]
  },
  {
   "cell_type": "raw",
   "metadata": {},
   "source": [
    "['First batch', ' second batch', ' third', ' fourth']"
   ]
  },
  {
   "cell_type": "markdown",
   "metadata": {},
   "source": [
    "\n",
    "Notice how `split` converts a string into a list of strings. The string is split by spaces by default or by the optional second argument (in this case, a comma).\n",
    "\n",
    "\n",
    "One more feature is worth mentioning. Python strings can have escape sequences that allow characters that otherwise might be hard to insert in a string. Here is a table giving some examples:\n",
    "\n",
    "\n",
    "\n",
    "\n",
    "|  |  |  |  |\n",
    "| --- | --- | --- | --- |\n",
    "| Escape | What it makes |  |  |\n",
    "| `\\'` | `'` |  |  |\n",
    "| `\\\"` | `\"` |  |  |\n",
    "| `\\\\` | `\\` |  |  |\n",
    "| `\\n` | newline |  |  |\n",
    "| `\\t` | tab |  |  |\n",
    "| `\\x6A` | j (lets a character be specified by a hex byte) |  |  |\n",
    "| `\\u2661` | $\\heartsuit$ |  |  |\n",
    "| `\\U00002661` | $\\heartsuit$ |  |  |\n",
    "| `\\N{white heart suit}` | $\\heartsuit$ |  |  |\n",
    "\n",
    "\n",
    "\n",
    "Examples\n",
    "========\n"
   ]
  },
  {
   "cell_type": "code",
   "execution_count": null,
   "metadata": {},
   "outputs": [],
   "source": [
    "#This program requires a excellent understanding of decimal numbers\n",
    "def to_string(in_int):\n",
    "    \"Converts an integer to a string\"\n",
    "    out_str = \"\"\n",
    "    prefix = \"\"\n",
    "    if in_int < 0:\n",
    "        prefix = \"-\"\n",
    "        in_int = -in_int\n",
    "    while in_int // 10 != 0:\n",
    "        out_str = chr(ord('0')+in_int % 10) + out_str\n",
    "        in_int = in_int // 10\n",
    "    out_str = chr(ord('0')+in_int % 10) + out_str\n",
    "    return prefix + out_str\n",
    "\n",
    "def to_int(in_str):\n",
    "    \"Converts a string to an integer\"\n",
    "    out_num = 0\n",
    "    if in_str[0] == \"-\":\n",
    "        multiplier = -1\n",
    "        in_str = in_str[1:]\n",
    "    else:\n",
    "        multiplier = 1\n",
    "    for x in range(0, len(in_str)):\n",
    "        out_num = out_num * 10 + ord(in_str[x]) - ord('0')\n",
    "    return out_num * multiplier\n",
    "\n",
    "print(to_string(2))\n",
    "print(to_string(23445))\n",
    "print(to_string(-23445))\n",
    "print(to_int(\"14234\"))\n",
    "print(to_int(\"-3512\"))"
   ]
  },
  {
   "cell_type": "markdown",
   "metadata": {},
   "source": [
    "\n",
    "\n",
    "The output is:\n"
   ]
  },
  {
   "cell_type": "raw",
   "metadata": {},
   "source": [
    "2\n",
    "23445\n",
    "-23445\n",
    "14234\n",
    "-3512"
   ]
  },
  {
   "cell_type": "markdown",
   "metadata": {},
   "source": [
    "\n"
   ]
  }
 ],
 "metadata": {
  "kernelspec": {
   "display_name": "Python 3",
   "language": "python",
   "name": "python3"
  },
  "language_info": {
   "codemirror_mode": {
    "name": "ipython",
    "version": 3
   },
   "file_extension": ".py",
   "mimetype": "text/x-python",
   "name": "python",
   "nbconvert_exporter": "python",
   "pygments_lexer": "ipython3",
   "version": "3.8.10"
  }
 },
 "nbformat": 4,
 "nbformat_minor": 4
}
