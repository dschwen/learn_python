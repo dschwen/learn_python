{
 "cells": [
  {
   "cell_type": "markdown",
   "metadata": {},
   "source": [
    "\n",
    "\n",
    "If statement\n",
    "============\n",
    "\n",
    "\n",
    "As always I believe I should start each chapter with a warm up typing exercise so here is a short program to compute the absolute value of a number:\n"
   ]
  },
  {
   "cell_type": "code",
   "execution_count": null,
   "metadata": {},
   "outputs": [],
   "source": [
    "n = float(input(\"Number? \"))\n",
    "if n < 0:\n",
    "    print(\"The absolute value of\", n, \"is\", -n)\n",
    "else:\n",
    "    print(\"The absolute value of\", n, \"is\", n)"
   ]
  },
  {
   "cell_type": "markdown",
   "metadata": {},
   "source": [
    "\n",
    "Here is the output from the two times that I ran this program:\n"
   ]
  },
  {
   "cell_type": "raw",
   "metadata": {},
   "source": [
    "Number? -34\n",
    "The absolute value of -34.0 is 34.0\n",
    "\n",
    "Number? 1\n",
    "The absolute value of 1.0 is 1.0"
   ]
  },
  {
   "cell_type": "markdown",
   "metadata": {},
   "source": [
    "So what does the computer do when when it sees this piece of code? First it prompts the user for a number with the statement `n = float(input(\"Number? \"))`. Next it reads the line `if n < 0:` . If `n` is less than zero Python runs the line `print(\"The absolute value of\", n, \"is\", -n)`. Otherwise python runs the line `print(\"The absolute value of\", n, \"is\", n)`.\n",
    "\n",
    "\n",
    "More formally Python looks at whether the *expression* `n < 0` is true or false. A if statement is followed by a *block* of statements that are run when the expression is true. Optionally after the if statement is a else statement. The else statement is run if the expression is false.\n",
    "\n",
    "\n",
    "There are several different tests that a expression can have. Here is a table of all of them:\n",
    "\n",
    "\n",
    "\n",
    "\n",
    "|  |  |  |  |\n",
    "| --- | --- | --- | --- |\n",
    "| operator | function |  |  |\n",
    "| `<` | less than |  |  |\n",
    "| `<=` | less than or equal to |  |  |\n",
    "| `>` | greater than |  |  |\n",
    "| `>=` | greater than or equal to |  |  |\n",
    "| `==` | equal |  |  |\n",
    "| `!=` | not equal |  |  |\n",
    "\n",
    "\n",
    "\n",
    "Another feature of the if command is the `elif`  statement. It stands for else if and means if the original if statement is false and then the elif part is true do that part. Here's a example:\n"
   ]
  },
  {
   "cell_type": "code",
   "execution_count": null,
   "metadata": {},
   "outputs": [],
   "source": [
    "a = 0\n",
    "while a < 10:\n",
    "    a = a + 1\n",
    "    if a > 5:\n",
    "        print(a, \" > \", 5)\n",
    "    elif a <= 7:\n",
    "        print(a, \" <= \", 7)\n",
    "    else:\n",
    "        print(\"Neither test was true\")"
   ]
  },
  {
   "cell_type": "markdown",
   "metadata": {},
   "source": [
    "\n",
    "and the output:\n"
   ]
  },
  {
   "cell_type": "raw",
   "metadata": {},
   "source": [
    "1  <=  7\n",
    "2  <=  7\n",
    "3  <=  7\n",
    "4  <=  7\n",
    "5  <=  7\n",
    "6  >  5\n",
    "7  >  5\n",
    "8  >  5\n",
    "9  >  5\n",
    "10  >  5"
   ]
  },
  {
   "cell_type": "markdown",
   "metadata": {},
   "source": [
    "\n",
    "Notice how the `elif a <= 7` is only tested when the if statement fail to be true. elif allows multiple tests to be done in a single if statement.\n",
    "\n",
    "\n",
    "Examples\n",
    "========\n",
    "\n",
    "\n",
    "\n",
    "High\\_low.py\n"
   ]
  },
  {
   "cell_type": "code",
   "execution_count": null,
   "metadata": {},
   "outputs": [],
   "source": [
    "#Plays the guessing game higher or lower\n",
    "# (originally written by Josh Cogliati, improved by Quique)\n",
    "\n",
    "#This should actually be something that is semi random like the\n",
    "# last digits of the time or something else, but that will have to\n",
    "# wait till a later chapter.  (Extra Credit, modify it to be random\n",
    "# after the Modules chapter)\n",
    "number = 78\n",
    "guess = 0\n",
    "\n",
    "while guess != number:\n",
    "    guess = int(input(\"Guess a number: \"))\n",
    "\n",
    "    if guess > number:\n",
    "        print(\"Too high\")\n",
    "\n",
    "    elif guess < number:\n",
    "        print(\"Too low\")\n",
    "\n",
    "print(\"Just right\")"
   ]
  },
  {
   "cell_type": "markdown",
   "metadata": {},
   "source": [
    "\n",
    "Sample run:\n"
   ]
  },
  {
   "cell_type": "raw",
   "metadata": {},
   "source": [
    "Guess a number:100\n",
    "Too high\n",
    "Guess a number:50\n",
    "Too low\n",
    "Guess a number:75\n",
    "Too low\n",
    "Guess a number:87\n",
    "Too high\n",
    "Guess a number:81\n",
    "Too high\n",
    "Guess a number:78\n",
    "Just right"
   ]
  },
  {
   "cell_type": "markdown",
   "metadata": {},
   "source": [
    "\n",
    "\n",
    "even.py\n"
   ]
  },
  {
   "cell_type": "code",
   "execution_count": null,
   "metadata": {},
   "outputs": [],
   "source": [
    "#Asks for a number.\n",
    "#Prints if it is even or odd\n",
    "\n",
    "number = float(input(\"Tell me a number: \"))\n",
    "if number % 2 == 0:\n",
    "    print(number, \"is even.\")\n",
    "elif number % 2 == 1:\n",
    "    print(number, \"is odd.\")\n",
    "else:\n",
    "    print(number, \"is very strange.\")"
   ]
  },
  {
   "cell_type": "markdown",
   "metadata": {},
   "source": [
    "\n",
    "Sample runs.\n"
   ]
  },
  {
   "cell_type": "raw",
   "metadata": {},
   "source": [
    "Tell me a number: 3\n",
    "3.0 is odd.\n",
    "\n",
    "Tell me a number: 2\n",
    "2.0 is even.\n",
    "\n",
    "Tell me a number: 3.14159\n",
    "3.14159 is very strange."
   ]
  },
  {
   "cell_type": "markdown",
   "metadata": {},
   "source": [
    "\n",
    "\n",
    "average1.py\n"
   ]
  },
  {
   "cell_type": "code",
   "execution_count": null,
   "metadata": {},
   "outputs": [],
   "source": [
    "#keeps asking for numbers until 0 is entered.\n",
    "#Prints the average value.\n",
    "\n",
    "count = 0\n",
    "sum = 0.0\n",
    "number = 1 #set this to something that will not exit\n",
    "#           the while loop immediatly.\n",
    "\n",
    "print(\"Enter 0 to exit the loop\")\n",
    "\n",
    "while number != 0:\n",
    "    number = float(input(\"Enter a number:\"))\n",
    "    count = count + 1\n",
    "    sum = sum + number\n",
    "\n",
    "count = count - 1 #take off one for the last number\n",
    "print(\"The average was:\", sum/count)"
   ]
  },
  {
   "cell_type": "markdown",
   "metadata": {},
   "source": [
    "\n",
    "Sample runs\n"
   ]
  },
  {
   "cell_type": "raw",
   "metadata": {},
   "source": [
    "Enter 0 to exit the loop\n",
    "Enter a number:3\n",
    "Enter a number:5\n",
    "Enter a number:0\n",
    "The average was: 4.0\n",
    "\n",
    "Enter 0 to exit the loop\n",
    "Enter a number:1\n",
    "Enter a number:4\n",
    "Enter a number:3\n",
    "Enter a number:0\n",
    "The average was: 2.66666666667"
   ]
  },
  {
   "cell_type": "markdown",
   "metadata": {},
   "source": [
    "\n",
    "\n",
    "average2.py\n"
   ]
  },
  {
   "cell_type": "code",
   "execution_count": null,
   "metadata": {},
   "outputs": [],
   "source": [
    "#keeps asking for numbers until count have been entered.\n",
    "#Prints the average value.\n",
    "\n",
    "sum = 0.0\n",
    "\n",
    "print(\"This program will take several numbers then average them\")\n",
    "count = int(input(\"How many numbers would you like to sum:\"))\n",
    "current_count = 0\n",
    "\n",
    "while current_count < count:\n",
    "    current_count = current_count + 1\n",
    "    print(\"Number \", current_count)\n",
    "    number = float(input(\"Enter a number:\"))\n",
    "    sum = sum + number\n",
    "\n",
    "print(\"The average was:\", sum/count)"
   ]
  },
  {
   "cell_type": "markdown",
   "metadata": {},
   "source": [
    "\n",
    "Sample runs\n"
   ]
  },
  {
   "cell_type": "raw",
   "metadata": {},
   "source": [
    "This program will take several numbers then average them\n",
    "How many numbers would you like to sum:2\n",
    "Number  1\n",
    "Enter a number:3\n",
    "Number  2\n",
    "Enter a number:5\n",
    "The average was: 4.0\n",
    "\n",
    "This program will take several numbers then average them\n",
    "How many numbers would you like to sum:3\n",
    "Number  1\n",
    "Enter a number:1\n",
    "Number  2\n",
    "Enter a number:4\n",
    "Number  3\n",
    "Enter a number:3\n",
    "The average was: 2.66666666667"
   ]
  },
  {
   "cell_type": "markdown",
   "metadata": {},
   "source": [
    "Exercises\n",
    "=========\n",
    "\n",
    "Modify the password guessing program to keep track of how many times the\n",
    "user has entered the password wrong. If it is more than 3 times, print\n",
    "“That must have been complicated.”"
   ]
  },
  {
   "cell_type": "code",
   "execution_count": null,
   "metadata": {},
   "outputs": [],
   "source": []
  },
  {
   "cell_type": "markdown",
   "metadata": {},
   "source": [
    "Write a program that asks for two numbers. If the sum of the numbers\n",
    "is greater than 100, print “That is big number”."
   ]
  },
  {
   "cell_type": "code",
   "execution_count": null,
   "metadata": {},
   "outputs": [],
   "source": []
  },
  {
   "cell_type": "markdown",
   "metadata": {},
   "source": [
    "Write a program that asks the user their name, if they enter your name\n",
    "say “That is a nice name”, if they enter “John Cleese” or “Michael\n",
    "Palin”, tell them how you feel about them ;), otherwise tell them “You\n",
    "have a nice name”."
   ]
  },
  {
   "cell_type": "code",
   "execution_count": null,
   "metadata": {},
   "outputs": [],
   "source": []
  }
 ],
 "metadata": {
  "kernelspec": {
   "display_name": "Python 3",
   "language": "python",
   "name": "python3"
  },
  "language_info": {
   "codemirror_mode": {
    "name": "ipython",
    "version": 3
   },
   "file_extension": ".py",
   "mimetype": "text/x-python",
   "name": "python",
   "nbconvert_exporter": "python",
   "pygments_lexer": "ipython3",
   "version": "3.8.10"
  }
 },
 "nbformat": 4,
 "nbformat_minor": 4
}
