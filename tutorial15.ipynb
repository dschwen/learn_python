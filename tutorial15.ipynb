{
 "cells": [
  {
   "cell_type": "markdown",
   "metadata": {},
   "source": [
    "\n",
    "\n",
    "So you now have the perfect program, it runs flawlessly, except for one detail. It will crash on invalid user input. Have no fear, for Python has a special control structure for you. It's called `try` and it tries to do something. Here is an example of a program with a problem:\n"
   ]
  },
  {
   "cell_type": "code",
   "execution_count": null,
   "metadata": {},
   "outputs": [],
   "source": [
    "print(\"Type Control C or -1 to exit\")\n",
    "number = 1\n",
    "while number != -1:\n",
    "    number = int(input(\"Enter a number: \"))\n",
    "    print(\"You entered: \", number)"
   ]
  },
  {
   "cell_type": "markdown",
   "metadata": {},
   "source": [
    "\n",
    "\n",
    "Notice how when you enter `@#&` it outputs something like:\n"
   ]
  },
  {
   "cell_type": "raw",
   "metadata": {},
   "source": [
    "Traceback (most recent call last):\n",
    "  File \"notry.py\", line 8, in <module>\n",
    "    number = int(input(\"Enter a number: \"))\n",
    "ValueError: invalid literal for int() with base 10: '@#&amp;'"
   ]
  },
  {
   "cell_type": "markdown",
   "metadata": {},
   "source": [
    "\n",
    "\n",
    "As you can see, the `int` function is unhappy with the number `@#&` (as well it should be). The last line shows what the problem is; Python found a `ValueError`. How can our program deal with this? What we do is first: put the place where the errors occurs in a `try` block, and second: tell Python how we want `ValueError`s handled. The following program does this:\n"
   ]
  },
  {
   "cell_type": "code",
   "execution_count": null,
   "metadata": {},
   "outputs": [],
   "source": [
    "print(\"Type Control C or -1 to exit\")\n",
    "number = 1\n",
    "while number != -1:\n",
    "    try:\n",
    "        number = int(input(\"Enter a number: \"))\n",
    "        print(\"You entered: \", number)\n",
    "    except ValueError:\n",
    "        print(\"That was not a number\")"
   ]
  },
  {
   "cell_type": "markdown",
   "metadata": {},
   "source": [
    "\n",
    "\n",
    "Now when we run the new program and give it `@#&` it tells us “That was not a number.” and continues with what it was doing before.\n",
    "\n",
    "\n",
    "When your program keeps having some error that you know how to handle, put code in a `try` block, and put the way to handle the error in the `except` block.\n",
    "\n",
    "\n",
    "Exercises\n",
    "=========\n",
    "\n",
    "\n",
    "\n",
    "Update at least the phone numbers program so it doesn't crash if a\n",
    "user doesn't enter any data at the menu.\n"
   ]
  },
  {
   "cell_type": "code",
   "execution_count": null,
   "metadata": {},
   "outputs": [],
   "source": [
    "def print_menu():\n",
    "    print('1. Print Phone Numbers')\n",
    "    print('2. Add a Phone Number')\n",
    "    print('3. Remove a Phone Number')\n",
    "    print('4. Lookup a Phone Number')\n",
    "    print('5. Quit')\n",
    "    print()\n",
    "numbers = {}\n",
    "menu_choice = 0\n",
    "print_menu()\n",
    "while menu_choice != 5:\n",
    "    menu_choice = int(input(\"Type in a number (1-5):\"))\n",
    "    if menu_choice == 1:\n",
    "        print(\"Telephone Numbers:\")\n",
    "        for x in sorted(numbers.keys()):\n",
    "            print(\"Name: \", x, \" \\tNumber: \", numbers[x])\n",
    "        print()\n",
    "    elif menu_choice == 2:\n",
    "        print(\"Add Name and Number\")\n",
    "        name = input(\"Name:\")\n",
    "        phone = input(\"Number:\")\n",
    "        numbers[name] = phone\n",
    "    elif menu_choice == 3:\n",
    "        print(\"Remove Name and Number\")\n",
    "        name = input(\"Name:\")\n",
    "        if name in numbers:\n",
    "            del numbers[name]\n",
    "        else:\n",
    "            print(name, \" was not found\")\n",
    "    elif menu_choice == 4:\n",
    "        print(\"Lookup Number\")\n",
    "        name = input(\"Name:\")\n",
    "        if name in numbers:\n",
    "            print(\"The number is\", numbers[name])\n",
    "        else:\n",
    "            print(name, \" was not found\")\n",
    "    elif menu_choice != 5:\n",
    "        print_menu()"
   ]
  }
 ],
 "metadata": {
  "kernelspec": {
   "display_name": "Python 3",
   "language": "python",
   "name": "python3"
  },
  "language_info": {
   "codemirror_mode": {
    "name": "ipython",
    "version": 3
   },
   "file_extension": ".py",
   "mimetype": "text/x-python",
   "name": "python",
   "nbconvert_exporter": "python",
   "pygments_lexer": "ipython3",
   "version": "3.8.10"
  }
 },
 "nbformat": 4,
 "nbformat_minor": 4
}
